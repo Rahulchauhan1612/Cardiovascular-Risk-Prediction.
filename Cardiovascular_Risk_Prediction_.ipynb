{
  "cells": [
    {
      "cell_type": "markdown",
      "metadata": {
        "id": "view-in-github",
        "colab_type": "text"
      },
      "source": [
        "<a href=\"https://colab.research.google.com/github/Rahulchauhan1612/Cardiovascular-Risk-Prediction./blob/main/Cardiovascular_Risk_Prediction_.ipynb\" target=\"_parent\"><img src=\"https://colab.research.google.com/assets/colab-badge.svg\" alt=\"Open In Colab\"/></a>"
      ]
    },
    {
      "cell_type": "markdown",
      "metadata": {
        "id": "yg--rDRxI1K3"
      },
      "source": [
        "# **Cardiovascular Risk Prediction Project**\n",
        "The dataset is from an ongoing cardiovascular study on residents of the town of Framingham, Massachusetts. The classification goal is to predict whether the patient has a 10-year risk of future coronary heart disease (CHD). The dataset provides the patients’ information. It includes over 4,000 records and 15 attributes."
      ]
    },
    {
      "cell_type": "markdown",
      "metadata": {
        "id": "XfmfwX9BJKEO"
      },
      "source": [
        "## **Data Description :**\n",
        "\n",
        "### **Variables :**\n",
        "\n",
        "Each attribute is a potential risk factor. There are both demographic, behavioral, and medical risk factors.\n",
        "\n",
        "### **Demographic :**\n",
        "\n",
        "• Sex: male or female(\"M\" or \"F\")\n",
        "\n",
        "• Age: Age of the patient;(Continuous - Although the recorded ages have been truncated to whole numbers, the concept of age is continuous)\n",
        "\n",
        "### **Behavioral :**\n",
        "\n",
        "• is_smoking: whether or not the patient is a current smoker (\"YES\" or \"NO\")\n",
        "\n",
        "• Cigs Per Day: the number of cigarettes that the person smoked on average in one day.(can be considered continuous as one can have any number of cigarettes, even half a cigarette.)\n",
        "\n",
        "### **Medical( history):**\n",
        "\n",
        "• BP Meds: whether or not the patient was on blood pressure medication (Nominal)\n",
        "\n",
        "• Prevalent Stroke: whether or not the patient had previously had a stroke (Nominal)\n",
        "\n",
        "• Prevalent Hyp: whether or not the patient was hypertensive (Nominal)\n",
        "\n",
        "• Diabetes: whether or not the patient had diabetes (Nominal)\n",
        "\n",
        "### **Medical(current):**\n",
        "\n",
        "• Tot Chol: total cholesterol level (Continuous)\n",
        "\n",
        "• Sys BP: systolic blood pressure (Continuous)\n",
        "\n",
        "• Dia BP: diastolic blood pressure (Continuous)\n",
        "\n",
        "• BMI: Body Mass Index (Continuous)\n",
        "\n",
        "• Heart Rate: heart rate (Continuous - In medical research, variables such as heart rate though in fact discrete, yet are considered continuous because of large number of possible values.)\n",
        "\n",
        "• Glucose: glucose level (Continuous)\n",
        "\n",
        "### **Predict variable (desired target):**\n",
        "\n",
        "10-year risk of coronary heart disease CHD(binary: “1”, means “Yes”, “0” means “No”) - Dv"
      ]
    },
    {
      "cell_type": "markdown",
      "metadata": {
        "id": "xz7MY3CEows4"
      },
      "source": [
        "### **#Connecting the drive:**\n"
      ]
    },
    {
      "cell_type": "code",
      "execution_count": 257,
      "metadata": {
        "colab": {
          "base_uri": "https://localhost:8080/"
        },
        "id": "onkfOIk0I8JK",
        "outputId": "50b05d0b-24a0-4fff-8756-ba623d71a305"
      },
      "outputs": [
        {
          "output_type": "stream",
          "name": "stdout",
          "text": [
            "Drive already mounted at /content/drive; to attempt to forcibly remount, call drive.mount(\"/content/drive\", force_remount=True).\n"
          ]
        }
      ],
      "source": [
        "#Mounting the drive:\n",
        "\n",
        "from google.colab import drive\n",
        "drive.mount('/content/drive')"
      ]
    },
    {
      "cell_type": "code",
      "execution_count": 258,
      "metadata": {
        "id": "2A9ocYgso5T-"
      },
      "outputs": [],
      "source": [
        "#Loading the libraries\n",
        "\n",
        "import pandas as pd                                                           #Extensively used to load and wrangle with the dataset.\n",
        "import numpy as np                                                            #For some math operations in predictions\n",
        "import matplotlib.pyplot as plt                                               #Used for visualization.\n",
        "import seaborn as sns                                                         #Used for visualization.\n",
        "import missingno as mno                                                       #install  pip install missingno\n",
        "import warnings                                                               #For filtering and ignoring the warnings.\n",
        "warnings.filterwarnings('ignore')\n",
        "from statsmodels.stats.outliers_influence import variance_inflation_factor    #For Multicolinearity"
      ]
    },
    {
      "cell_type": "markdown",
      "metadata": {
        "id": "4S45tZ_cpLAu"
      },
      "source": [
        "**Loading the dataset:**\n",
        "\n"
      ]
    },
    {
      "cell_type": "code",
      "execution_count": 259,
      "metadata": {
        "id": "v4tDkJ7cpIt8"
      },
      "outputs": [],
      "source": [
        "#Loading the given dataset:\n",
        "\n",
        "data = pd.read_csv('/content/drive/MyDrive/6.Cardiovascular Risk Prediction/data_cardiovascular_risk.csv')"
      ]
    },
    {
      "cell_type": "code",
      "execution_count": 260,
      "metadata": {
        "colab": {
          "base_uri": "https://localhost:8080/",
          "height": 206
        },
        "id": "332YPtRkpenr",
        "outputId": "8afe14c6-6ad8-4618-c096-d4cda3fed362"
      },
      "outputs": [
        {
          "output_type": "execute_result",
          "data": {
            "text/plain": [
              "   id  age  education sex is_smoking  cigsPerDay  BPMeds  prevalentStroke  \\\n",
              "0   0   64        2.0   F        YES         3.0     0.0                0   \n",
              "1   1   36        4.0   M         NO         0.0     0.0                0   \n",
              "2   2   46        1.0   F        YES        10.0     0.0                0   \n",
              "3   3   50        1.0   M        YES        20.0     0.0                0   \n",
              "4   4   64        1.0   F        YES        30.0     0.0                0   \n",
              "\n",
              "   prevalentHyp  diabetes  totChol  sysBP  diaBP    BMI  heartRate  glucose  \\\n",
              "0             0         0    221.0  148.0   85.0    NaN       90.0     80.0   \n",
              "1             1         0    212.0  168.0   98.0  29.77       72.0     75.0   \n",
              "2             0         0    250.0  116.0   71.0  20.35       88.0     94.0   \n",
              "3             1         0    233.0  158.0   88.0  28.26       68.0     94.0   \n",
              "4             0         0    241.0  136.5   85.0  26.42       70.0     77.0   \n",
              "\n",
              "   TenYearCHD  \n",
              "0           1  \n",
              "1           0  \n",
              "2           0  \n",
              "3           1  \n",
              "4           0  "
            ],
            "text/html": [
              "\n",
              "  <div id=\"df-95540247-bcb5-44af-89d4-5f2f4d80ef06\">\n",
              "    <div class=\"colab-df-container\">\n",
              "      <div>\n",
              "<style scoped>\n",
              "    .dataframe tbody tr th:only-of-type {\n",
              "        vertical-align: middle;\n",
              "    }\n",
              "\n",
              "    .dataframe tbody tr th {\n",
              "        vertical-align: top;\n",
              "    }\n",
              "\n",
              "    .dataframe thead th {\n",
              "        text-align: right;\n",
              "    }\n",
              "</style>\n",
              "<table border=\"1\" class=\"dataframe\">\n",
              "  <thead>\n",
              "    <tr style=\"text-align: right;\">\n",
              "      <th></th>\n",
              "      <th>id</th>\n",
              "      <th>age</th>\n",
              "      <th>education</th>\n",
              "      <th>sex</th>\n",
              "      <th>is_smoking</th>\n",
              "      <th>cigsPerDay</th>\n",
              "      <th>BPMeds</th>\n",
              "      <th>prevalentStroke</th>\n",
              "      <th>prevalentHyp</th>\n",
              "      <th>diabetes</th>\n",
              "      <th>totChol</th>\n",
              "      <th>sysBP</th>\n",
              "      <th>diaBP</th>\n",
              "      <th>BMI</th>\n",
              "      <th>heartRate</th>\n",
              "      <th>glucose</th>\n",
              "      <th>TenYearCHD</th>\n",
              "    </tr>\n",
              "  </thead>\n",
              "  <tbody>\n",
              "    <tr>\n",
              "      <th>0</th>\n",
              "      <td>0</td>\n",
              "      <td>64</td>\n",
              "      <td>2.0</td>\n",
              "      <td>F</td>\n",
              "      <td>YES</td>\n",
              "      <td>3.0</td>\n",
              "      <td>0.0</td>\n",
              "      <td>0</td>\n",
              "      <td>0</td>\n",
              "      <td>0</td>\n",
              "      <td>221.0</td>\n",
              "      <td>148.0</td>\n",
              "      <td>85.0</td>\n",
              "      <td>NaN</td>\n",
              "      <td>90.0</td>\n",
              "      <td>80.0</td>\n",
              "      <td>1</td>\n",
              "    </tr>\n",
              "    <tr>\n",
              "      <th>1</th>\n",
              "      <td>1</td>\n",
              "      <td>36</td>\n",
              "      <td>4.0</td>\n",
              "      <td>M</td>\n",
              "      <td>NO</td>\n",
              "      <td>0.0</td>\n",
              "      <td>0.0</td>\n",
              "      <td>0</td>\n",
              "      <td>1</td>\n",
              "      <td>0</td>\n",
              "      <td>212.0</td>\n",
              "      <td>168.0</td>\n",
              "      <td>98.0</td>\n",
              "      <td>29.77</td>\n",
              "      <td>72.0</td>\n",
              "      <td>75.0</td>\n",
              "      <td>0</td>\n",
              "    </tr>\n",
              "    <tr>\n",
              "      <th>2</th>\n",
              "      <td>2</td>\n",
              "      <td>46</td>\n",
              "      <td>1.0</td>\n",
              "      <td>F</td>\n",
              "      <td>YES</td>\n",
              "      <td>10.0</td>\n",
              "      <td>0.0</td>\n",
              "      <td>0</td>\n",
              "      <td>0</td>\n",
              "      <td>0</td>\n",
              "      <td>250.0</td>\n",
              "      <td>116.0</td>\n",
              "      <td>71.0</td>\n",
              "      <td>20.35</td>\n",
              "      <td>88.0</td>\n",
              "      <td>94.0</td>\n",
              "      <td>0</td>\n",
              "    </tr>\n",
              "    <tr>\n",
              "      <th>3</th>\n",
              "      <td>3</td>\n",
              "      <td>50</td>\n",
              "      <td>1.0</td>\n",
              "      <td>M</td>\n",
              "      <td>YES</td>\n",
              "      <td>20.0</td>\n",
              "      <td>0.0</td>\n",
              "      <td>0</td>\n",
              "      <td>1</td>\n",
              "      <td>0</td>\n",
              "      <td>233.0</td>\n",
              "      <td>158.0</td>\n",
              "      <td>88.0</td>\n",
              "      <td>28.26</td>\n",
              "      <td>68.0</td>\n",
              "      <td>94.0</td>\n",
              "      <td>1</td>\n",
              "    </tr>\n",
              "    <tr>\n",
              "      <th>4</th>\n",
              "      <td>4</td>\n",
              "      <td>64</td>\n",
              "      <td>1.0</td>\n",
              "      <td>F</td>\n",
              "      <td>YES</td>\n",
              "      <td>30.0</td>\n",
              "      <td>0.0</td>\n",
              "      <td>0</td>\n",
              "      <td>0</td>\n",
              "      <td>0</td>\n",
              "      <td>241.0</td>\n",
              "      <td>136.5</td>\n",
              "      <td>85.0</td>\n",
              "      <td>26.42</td>\n",
              "      <td>70.0</td>\n",
              "      <td>77.0</td>\n",
              "      <td>0</td>\n",
              "    </tr>\n",
              "  </tbody>\n",
              "</table>\n",
              "</div>\n",
              "      <button class=\"colab-df-convert\" onclick=\"convertToInteractive('df-95540247-bcb5-44af-89d4-5f2f4d80ef06')\"\n",
              "              title=\"Convert this dataframe to an interactive table.\"\n",
              "              style=\"display:none;\">\n",
              "        \n",
              "  <svg xmlns=\"http://www.w3.org/2000/svg\" height=\"24px\"viewBox=\"0 0 24 24\"\n",
              "       width=\"24px\">\n",
              "    <path d=\"M0 0h24v24H0V0z\" fill=\"none\"/>\n",
              "    <path d=\"M18.56 5.44l.94 2.06.94-2.06 2.06-.94-2.06-.94-.94-2.06-.94 2.06-2.06.94zm-11 1L8.5 8.5l.94-2.06 2.06-.94-2.06-.94L8.5 2.5l-.94 2.06-2.06.94zm10 10l.94 2.06.94-2.06 2.06-.94-2.06-.94-.94-2.06-.94 2.06-2.06.94z\"/><path d=\"M17.41 7.96l-1.37-1.37c-.4-.4-.92-.59-1.43-.59-.52 0-1.04.2-1.43.59L10.3 9.45l-7.72 7.72c-.78.78-.78 2.05 0 2.83L4 21.41c.39.39.9.59 1.41.59.51 0 1.02-.2 1.41-.59l7.78-7.78 2.81-2.81c.8-.78.8-2.07 0-2.86zM5.41 20L4 18.59l7.72-7.72 1.47 1.35L5.41 20z\"/>\n",
              "  </svg>\n",
              "      </button>\n",
              "      \n",
              "  <style>\n",
              "    .colab-df-container {\n",
              "      display:flex;\n",
              "      flex-wrap:wrap;\n",
              "      gap: 12px;\n",
              "    }\n",
              "\n",
              "    .colab-df-convert {\n",
              "      background-color: #E8F0FE;\n",
              "      border: none;\n",
              "      border-radius: 50%;\n",
              "      cursor: pointer;\n",
              "      display: none;\n",
              "      fill: #1967D2;\n",
              "      height: 32px;\n",
              "      padding: 0 0 0 0;\n",
              "      width: 32px;\n",
              "    }\n",
              "\n",
              "    .colab-df-convert:hover {\n",
              "      background-color: #E2EBFA;\n",
              "      box-shadow: 0px 1px 2px rgba(60, 64, 67, 0.3), 0px 1px 3px 1px rgba(60, 64, 67, 0.15);\n",
              "      fill: #174EA6;\n",
              "    }\n",
              "\n",
              "    [theme=dark] .colab-df-convert {\n",
              "      background-color: #3B4455;\n",
              "      fill: #D2E3FC;\n",
              "    }\n",
              "\n",
              "    [theme=dark] .colab-df-convert:hover {\n",
              "      background-color: #434B5C;\n",
              "      box-shadow: 0px 1px 3px 1px rgba(0, 0, 0, 0.15);\n",
              "      filter: drop-shadow(0px 1px 2px rgba(0, 0, 0, 0.3));\n",
              "      fill: #FFFFFF;\n",
              "    }\n",
              "  </style>\n",
              "\n",
              "      <script>\n",
              "        const buttonEl =\n",
              "          document.querySelector('#df-95540247-bcb5-44af-89d4-5f2f4d80ef06 button.colab-df-convert');\n",
              "        buttonEl.style.display =\n",
              "          google.colab.kernel.accessAllowed ? 'block' : 'none';\n",
              "\n",
              "        async function convertToInteractive(key) {\n",
              "          const element = document.querySelector('#df-95540247-bcb5-44af-89d4-5f2f4d80ef06');\n",
              "          const dataTable =\n",
              "            await google.colab.kernel.invokeFunction('convertToInteractive',\n",
              "                                                     [key], {});\n",
              "          if (!dataTable) return;\n",
              "\n",
              "          const docLinkHtml = 'Like what you see? Visit the ' +\n",
              "            '<a target=\"_blank\" href=https://colab.research.google.com/notebooks/data_table.ipynb>data table notebook</a>'\n",
              "            + ' to learn more about interactive tables.';\n",
              "          element.innerHTML = '';\n",
              "          dataTable['output_type'] = 'display_data';\n",
              "          await google.colab.output.renderOutput(dataTable, element);\n",
              "          const docLink = document.createElement('div');\n",
              "          docLink.innerHTML = docLinkHtml;\n",
              "          element.appendChild(docLink);\n",
              "        }\n",
              "      </script>\n",
              "    </div>\n",
              "  </div>\n",
              "  "
            ]
          },
          "metadata": {},
          "execution_count": 260
        }
      ],
      "source": [
        "#First 5 rows of data:\n",
        "data.head()"
      ]
    },
    {
      "cell_type": "code",
      "execution_count": 261,
      "metadata": {
        "colab": {
          "base_uri": "https://localhost:8080/",
          "height": 206
        },
        "id": "5b6UFraApmNz",
        "outputId": "371903a0-d9a2-45d7-896e-c08698e29de8"
      },
      "outputs": [
        {
          "output_type": "execute_result",
          "data": {
            "text/plain": [
              "        id  age  education sex is_smoking  cigsPerDay  BPMeds  \\\n",
              "3385  3385   60        1.0   F         NO         0.0     0.0   \n",
              "3386  3386   46        1.0   F         NO         0.0     0.0   \n",
              "3387  3387   44        3.0   M        YES         3.0     0.0   \n",
              "3388  3388   60        1.0   M         NO         0.0     NaN   \n",
              "3389  3389   54        3.0   F         NO         0.0     0.0   \n",
              "\n",
              "      prevalentStroke  prevalentHyp  diabetes  totChol  sysBP  diaBP    BMI  \\\n",
              "3385                0             0         0    261.0  123.5   79.0  29.28   \n",
              "3386                0             0         0    199.0  102.0   56.0  21.96   \n",
              "3387                0             1         0    352.0  164.0  119.0  28.92   \n",
              "3388                0             1         0    191.0  167.0  105.0  23.01   \n",
              "3389                0             0         0    288.0  124.0   77.0  29.88   \n",
              "\n",
              "      heartRate  glucose  TenYearCHD  \n",
              "3385       70.0    103.0           0  \n",
              "3386       80.0     84.0           0  \n",
              "3387       73.0     72.0           1  \n",
              "3388       80.0     85.0           0  \n",
              "3389       79.0     92.0           0  "
            ],
            "text/html": [
              "\n",
              "  <div id=\"df-bb2ca968-01e4-4603-8863-9ffad7a825f7\">\n",
              "    <div class=\"colab-df-container\">\n",
              "      <div>\n",
              "<style scoped>\n",
              "    .dataframe tbody tr th:only-of-type {\n",
              "        vertical-align: middle;\n",
              "    }\n",
              "\n",
              "    .dataframe tbody tr th {\n",
              "        vertical-align: top;\n",
              "    }\n",
              "\n",
              "    .dataframe thead th {\n",
              "        text-align: right;\n",
              "    }\n",
              "</style>\n",
              "<table border=\"1\" class=\"dataframe\">\n",
              "  <thead>\n",
              "    <tr style=\"text-align: right;\">\n",
              "      <th></th>\n",
              "      <th>id</th>\n",
              "      <th>age</th>\n",
              "      <th>education</th>\n",
              "      <th>sex</th>\n",
              "      <th>is_smoking</th>\n",
              "      <th>cigsPerDay</th>\n",
              "      <th>BPMeds</th>\n",
              "      <th>prevalentStroke</th>\n",
              "      <th>prevalentHyp</th>\n",
              "      <th>diabetes</th>\n",
              "      <th>totChol</th>\n",
              "      <th>sysBP</th>\n",
              "      <th>diaBP</th>\n",
              "      <th>BMI</th>\n",
              "      <th>heartRate</th>\n",
              "      <th>glucose</th>\n",
              "      <th>TenYearCHD</th>\n",
              "    </tr>\n",
              "  </thead>\n",
              "  <tbody>\n",
              "    <tr>\n",
              "      <th>3385</th>\n",
              "      <td>3385</td>\n",
              "      <td>60</td>\n",
              "      <td>1.0</td>\n",
              "      <td>F</td>\n",
              "      <td>NO</td>\n",
              "      <td>0.0</td>\n",
              "      <td>0.0</td>\n",
              "      <td>0</td>\n",
              "      <td>0</td>\n",
              "      <td>0</td>\n",
              "      <td>261.0</td>\n",
              "      <td>123.5</td>\n",
              "      <td>79.0</td>\n",
              "      <td>29.28</td>\n",
              "      <td>70.0</td>\n",
              "      <td>103.0</td>\n",
              "      <td>0</td>\n",
              "    </tr>\n",
              "    <tr>\n",
              "      <th>3386</th>\n",
              "      <td>3386</td>\n",
              "      <td>46</td>\n",
              "      <td>1.0</td>\n",
              "      <td>F</td>\n",
              "      <td>NO</td>\n",
              "      <td>0.0</td>\n",
              "      <td>0.0</td>\n",
              "      <td>0</td>\n",
              "      <td>0</td>\n",
              "      <td>0</td>\n",
              "      <td>199.0</td>\n",
              "      <td>102.0</td>\n",
              "      <td>56.0</td>\n",
              "      <td>21.96</td>\n",
              "      <td>80.0</td>\n",
              "      <td>84.0</td>\n",
              "      <td>0</td>\n",
              "    </tr>\n",
              "    <tr>\n",
              "      <th>3387</th>\n",
              "      <td>3387</td>\n",
              "      <td>44</td>\n",
              "      <td>3.0</td>\n",
              "      <td>M</td>\n",
              "      <td>YES</td>\n",
              "      <td>3.0</td>\n",
              "      <td>0.0</td>\n",
              "      <td>0</td>\n",
              "      <td>1</td>\n",
              "      <td>0</td>\n",
              "      <td>352.0</td>\n",
              "      <td>164.0</td>\n",
              "      <td>119.0</td>\n",
              "      <td>28.92</td>\n",
              "      <td>73.0</td>\n",
              "      <td>72.0</td>\n",
              "      <td>1</td>\n",
              "    </tr>\n",
              "    <tr>\n",
              "      <th>3388</th>\n",
              "      <td>3388</td>\n",
              "      <td>60</td>\n",
              "      <td>1.0</td>\n",
              "      <td>M</td>\n",
              "      <td>NO</td>\n",
              "      <td>0.0</td>\n",
              "      <td>NaN</td>\n",
              "      <td>0</td>\n",
              "      <td>1</td>\n",
              "      <td>0</td>\n",
              "      <td>191.0</td>\n",
              "      <td>167.0</td>\n",
              "      <td>105.0</td>\n",
              "      <td>23.01</td>\n",
              "      <td>80.0</td>\n",
              "      <td>85.0</td>\n",
              "      <td>0</td>\n",
              "    </tr>\n",
              "    <tr>\n",
              "      <th>3389</th>\n",
              "      <td>3389</td>\n",
              "      <td>54</td>\n",
              "      <td>3.0</td>\n",
              "      <td>F</td>\n",
              "      <td>NO</td>\n",
              "      <td>0.0</td>\n",
              "      <td>0.0</td>\n",
              "      <td>0</td>\n",
              "      <td>0</td>\n",
              "      <td>0</td>\n",
              "      <td>288.0</td>\n",
              "      <td>124.0</td>\n",
              "      <td>77.0</td>\n",
              "      <td>29.88</td>\n",
              "      <td>79.0</td>\n",
              "      <td>92.0</td>\n",
              "      <td>0</td>\n",
              "    </tr>\n",
              "  </tbody>\n",
              "</table>\n",
              "</div>\n",
              "      <button class=\"colab-df-convert\" onclick=\"convertToInteractive('df-bb2ca968-01e4-4603-8863-9ffad7a825f7')\"\n",
              "              title=\"Convert this dataframe to an interactive table.\"\n",
              "              style=\"display:none;\">\n",
              "        \n",
              "  <svg xmlns=\"http://www.w3.org/2000/svg\" height=\"24px\"viewBox=\"0 0 24 24\"\n",
              "       width=\"24px\">\n",
              "    <path d=\"M0 0h24v24H0V0z\" fill=\"none\"/>\n",
              "    <path d=\"M18.56 5.44l.94 2.06.94-2.06 2.06-.94-2.06-.94-.94-2.06-.94 2.06-2.06.94zm-11 1L8.5 8.5l.94-2.06 2.06-.94-2.06-.94L8.5 2.5l-.94 2.06-2.06.94zm10 10l.94 2.06.94-2.06 2.06-.94-2.06-.94-.94-2.06-.94 2.06-2.06.94z\"/><path d=\"M17.41 7.96l-1.37-1.37c-.4-.4-.92-.59-1.43-.59-.52 0-1.04.2-1.43.59L10.3 9.45l-7.72 7.72c-.78.78-.78 2.05 0 2.83L4 21.41c.39.39.9.59 1.41.59.51 0 1.02-.2 1.41-.59l7.78-7.78 2.81-2.81c.8-.78.8-2.07 0-2.86zM5.41 20L4 18.59l7.72-7.72 1.47 1.35L5.41 20z\"/>\n",
              "  </svg>\n",
              "      </button>\n",
              "      \n",
              "  <style>\n",
              "    .colab-df-container {\n",
              "      display:flex;\n",
              "      flex-wrap:wrap;\n",
              "      gap: 12px;\n",
              "    }\n",
              "\n",
              "    .colab-df-convert {\n",
              "      background-color: #E8F0FE;\n",
              "      border: none;\n",
              "      border-radius: 50%;\n",
              "      cursor: pointer;\n",
              "      display: none;\n",
              "      fill: #1967D2;\n",
              "      height: 32px;\n",
              "      padding: 0 0 0 0;\n",
              "      width: 32px;\n",
              "    }\n",
              "\n",
              "    .colab-df-convert:hover {\n",
              "      background-color: #E2EBFA;\n",
              "      box-shadow: 0px 1px 2px rgba(60, 64, 67, 0.3), 0px 1px 3px 1px rgba(60, 64, 67, 0.15);\n",
              "      fill: #174EA6;\n",
              "    }\n",
              "\n",
              "    [theme=dark] .colab-df-convert {\n",
              "      background-color: #3B4455;\n",
              "      fill: #D2E3FC;\n",
              "    }\n",
              "\n",
              "    [theme=dark] .colab-df-convert:hover {\n",
              "      background-color: #434B5C;\n",
              "      box-shadow: 0px 1px 3px 1px rgba(0, 0, 0, 0.15);\n",
              "      filter: drop-shadow(0px 1px 2px rgba(0, 0, 0, 0.3));\n",
              "      fill: #FFFFFF;\n",
              "    }\n",
              "  </style>\n",
              "\n",
              "      <script>\n",
              "        const buttonEl =\n",
              "          document.querySelector('#df-bb2ca968-01e4-4603-8863-9ffad7a825f7 button.colab-df-convert');\n",
              "        buttonEl.style.display =\n",
              "          google.colab.kernel.accessAllowed ? 'block' : 'none';\n",
              "\n",
              "        async function convertToInteractive(key) {\n",
              "          const element = document.querySelector('#df-bb2ca968-01e4-4603-8863-9ffad7a825f7');\n",
              "          const dataTable =\n",
              "            await google.colab.kernel.invokeFunction('convertToInteractive',\n",
              "                                                     [key], {});\n",
              "          if (!dataTable) return;\n",
              "\n",
              "          const docLinkHtml = 'Like what you see? Visit the ' +\n",
              "            '<a target=\"_blank\" href=https://colab.research.google.com/notebooks/data_table.ipynb>data table notebook</a>'\n",
              "            + ' to learn more about interactive tables.';\n",
              "          element.innerHTML = '';\n",
              "          dataTable['output_type'] = 'display_data';\n",
              "          await google.colab.output.renderOutput(dataTable, element);\n",
              "          const docLink = document.createElement('div');\n",
              "          docLink.innerHTML = docLinkHtml;\n",
              "          element.appendChild(docLink);\n",
              "        }\n",
              "      </script>\n",
              "    </div>\n",
              "  </div>\n",
              "  "
            ]
          },
          "metadata": {},
          "execution_count": 261
        }
      ],
      "source": [
        "#Last 5 rows of data:\n",
        "data.tail()"
      ]
    },
    {
      "cell_type": "code",
      "execution_count": 262,
      "metadata": {
        "colab": {
          "base_uri": "https://localhost:8080/"
        },
        "id": "GqT0D0FapysP",
        "outputId": "e3717be5-1ad0-4438-fb7e-b003e9fac056"
      },
      "outputs": [
        {
          "output_type": "execute_result",
          "data": {
            "text/plain": [
              "(3390, 17)"
            ]
          },
          "metadata": {},
          "execution_count": 262
        }
      ],
      "source": [
        "#Shape and of the dataset:\n",
        "data.shape"
      ]
    },
    {
      "cell_type": "code",
      "execution_count": 263,
      "metadata": {
        "colab": {
          "base_uri": "https://localhost:8080/"
        },
        "id": "y0m-Z_tpp2Ia",
        "outputId": "2c9678bd-2c5b-4a1e-de54-bac0a063b39d"
      },
      "outputs": [
        {
          "output_type": "execute_result",
          "data": {
            "text/plain": [
              "Index(['id', 'age', 'education', 'sex', 'is_smoking', 'cigsPerDay', 'BPMeds',\n",
              "       'prevalentStroke', 'prevalentHyp', 'diabetes', 'totChol', 'sysBP',\n",
              "       'diaBP', 'BMI', 'heartRate', 'glucose', 'TenYearCHD'],\n",
              "      dtype='object')"
            ]
          },
          "metadata": {},
          "execution_count": 263
        }
      ],
      "source": [
        "#All the columns in the dataset:\n",
        "data.columns"
      ]
    },
    {
      "cell_type": "code",
      "execution_count": 264,
      "metadata": {
        "colab": {
          "base_uri": "https://localhost:8080/"
        },
        "id": "PV0tQ_hXpsue",
        "outputId": "97433242-35b1-4ed9-81a1-9a40f97d8b76"
      },
      "outputs": [
        {
          "output_type": "execute_result",
          "data": {
            "text/plain": [
              "id                 3390\n",
              "age                  39\n",
              "education             4\n",
              "sex                   2\n",
              "is_smoking            2\n",
              "cigsPerDay           32\n",
              "BPMeds                2\n",
              "prevalentStroke       2\n",
              "prevalentHyp          2\n",
              "diabetes              2\n",
              "totChol             240\n",
              "sysBP               226\n",
              "diaBP               142\n",
              "BMI                1259\n",
              "heartRate            68\n",
              "glucose             132\n",
              "TenYearCHD            2\n",
              "dtype: int64"
            ]
          },
          "metadata": {},
          "execution_count": 264
        }
      ],
      "source": [
        "#The number of unique values that each column contains:\n",
        "data.nunique()"
      ]
    },
    {
      "cell_type": "code",
      "execution_count": 265,
      "metadata": {
        "colab": {
          "base_uri": "https://localhost:8080/",
          "height": 364
        },
        "id": "kmgAiHoLqT2M",
        "outputId": "66a9581b-29dc-4358-b079-b579f2b64337"
      },
      "outputs": [
        {
          "output_type": "execute_result",
          "data": {
            "text/plain": [
              "                id          age    education   cigsPerDay       BPMeds  \\\n",
              "count  3390.000000  3390.000000  3303.000000  3368.000000  3346.000000   \n",
              "mean   1694.500000    49.542183     1.970936     9.069477     0.029886   \n",
              "std     978.753033     8.592878     1.019081    11.879078     0.170299   \n",
              "min       0.000000    32.000000     1.000000     0.000000     0.000000   \n",
              "25%     847.250000    42.000000     1.000000     0.000000     0.000000   \n",
              "50%    1694.500000    49.000000     2.000000     0.000000     0.000000   \n",
              "75%    2541.750000    56.000000     3.000000    20.000000     0.000000   \n",
              "max    3389.000000    70.000000     4.000000    70.000000     1.000000   \n",
              "\n",
              "       prevalentStroke  prevalentHyp     diabetes      totChol       sysBP  \\\n",
              "count      3390.000000   3390.000000  3390.000000  3352.000000  3390.00000   \n",
              "mean          0.006490      0.315339     0.025664   237.074284   132.60118   \n",
              "std           0.080309      0.464719     0.158153    45.247430    22.29203   \n",
              "min           0.000000      0.000000     0.000000   107.000000    83.50000   \n",
              "25%           0.000000      0.000000     0.000000   206.000000   117.00000   \n",
              "50%           0.000000      0.000000     0.000000   234.000000   128.50000   \n",
              "75%           0.000000      1.000000     0.000000   264.000000   144.00000   \n",
              "max           1.000000      1.000000     1.000000   696.000000   295.00000   \n",
              "\n",
              "             diaBP          BMI    heartRate      glucose   TenYearCHD  \n",
              "count  3390.000000  3376.000000  3389.000000  3086.000000  3390.000000  \n",
              "mean     82.883038    25.794964    75.977279    82.086520     0.150737  \n",
              "std      12.023581     4.115449    11.971868    24.244753     0.357846  \n",
              "min      48.000000    15.960000    45.000000    40.000000     0.000000  \n",
              "25%      74.500000    23.020000    68.000000    71.000000     0.000000  \n",
              "50%      82.000000    25.380000    75.000000    78.000000     0.000000  \n",
              "75%      90.000000    28.040000    83.000000    87.000000     0.000000  \n",
              "max     142.500000    56.800000   143.000000   394.000000     1.000000  "
            ],
            "text/html": [
              "\n",
              "  <div id=\"df-f0595e85-e96b-44ae-9467-9ba9452c9ad5\">\n",
              "    <div class=\"colab-df-container\">\n",
              "      <div>\n",
              "<style scoped>\n",
              "    .dataframe tbody tr th:only-of-type {\n",
              "        vertical-align: middle;\n",
              "    }\n",
              "\n",
              "    .dataframe tbody tr th {\n",
              "        vertical-align: top;\n",
              "    }\n",
              "\n",
              "    .dataframe thead th {\n",
              "        text-align: right;\n",
              "    }\n",
              "</style>\n",
              "<table border=\"1\" class=\"dataframe\">\n",
              "  <thead>\n",
              "    <tr style=\"text-align: right;\">\n",
              "      <th></th>\n",
              "      <th>id</th>\n",
              "      <th>age</th>\n",
              "      <th>education</th>\n",
              "      <th>cigsPerDay</th>\n",
              "      <th>BPMeds</th>\n",
              "      <th>prevalentStroke</th>\n",
              "      <th>prevalentHyp</th>\n",
              "      <th>diabetes</th>\n",
              "      <th>totChol</th>\n",
              "      <th>sysBP</th>\n",
              "      <th>diaBP</th>\n",
              "      <th>BMI</th>\n",
              "      <th>heartRate</th>\n",
              "      <th>glucose</th>\n",
              "      <th>TenYearCHD</th>\n",
              "    </tr>\n",
              "  </thead>\n",
              "  <tbody>\n",
              "    <tr>\n",
              "      <th>count</th>\n",
              "      <td>3390.000000</td>\n",
              "      <td>3390.000000</td>\n",
              "      <td>3303.000000</td>\n",
              "      <td>3368.000000</td>\n",
              "      <td>3346.000000</td>\n",
              "      <td>3390.000000</td>\n",
              "      <td>3390.000000</td>\n",
              "      <td>3390.000000</td>\n",
              "      <td>3352.000000</td>\n",
              "      <td>3390.00000</td>\n",
              "      <td>3390.000000</td>\n",
              "      <td>3376.000000</td>\n",
              "      <td>3389.000000</td>\n",
              "      <td>3086.000000</td>\n",
              "      <td>3390.000000</td>\n",
              "    </tr>\n",
              "    <tr>\n",
              "      <th>mean</th>\n",
              "      <td>1694.500000</td>\n",
              "      <td>49.542183</td>\n",
              "      <td>1.970936</td>\n",
              "      <td>9.069477</td>\n",
              "      <td>0.029886</td>\n",
              "      <td>0.006490</td>\n",
              "      <td>0.315339</td>\n",
              "      <td>0.025664</td>\n",
              "      <td>237.074284</td>\n",
              "      <td>132.60118</td>\n",
              "      <td>82.883038</td>\n",
              "      <td>25.794964</td>\n",
              "      <td>75.977279</td>\n",
              "      <td>82.086520</td>\n",
              "      <td>0.150737</td>\n",
              "    </tr>\n",
              "    <tr>\n",
              "      <th>std</th>\n",
              "      <td>978.753033</td>\n",
              "      <td>8.592878</td>\n",
              "      <td>1.019081</td>\n",
              "      <td>11.879078</td>\n",
              "      <td>0.170299</td>\n",
              "      <td>0.080309</td>\n",
              "      <td>0.464719</td>\n",
              "      <td>0.158153</td>\n",
              "      <td>45.247430</td>\n",
              "      <td>22.29203</td>\n",
              "      <td>12.023581</td>\n",
              "      <td>4.115449</td>\n",
              "      <td>11.971868</td>\n",
              "      <td>24.244753</td>\n",
              "      <td>0.357846</td>\n",
              "    </tr>\n",
              "    <tr>\n",
              "      <th>min</th>\n",
              "      <td>0.000000</td>\n",
              "      <td>32.000000</td>\n",
              "      <td>1.000000</td>\n",
              "      <td>0.000000</td>\n",
              "      <td>0.000000</td>\n",
              "      <td>0.000000</td>\n",
              "      <td>0.000000</td>\n",
              "      <td>0.000000</td>\n",
              "      <td>107.000000</td>\n",
              "      <td>83.50000</td>\n",
              "      <td>48.000000</td>\n",
              "      <td>15.960000</td>\n",
              "      <td>45.000000</td>\n",
              "      <td>40.000000</td>\n",
              "      <td>0.000000</td>\n",
              "    </tr>\n",
              "    <tr>\n",
              "      <th>25%</th>\n",
              "      <td>847.250000</td>\n",
              "      <td>42.000000</td>\n",
              "      <td>1.000000</td>\n",
              "      <td>0.000000</td>\n",
              "      <td>0.000000</td>\n",
              "      <td>0.000000</td>\n",
              "      <td>0.000000</td>\n",
              "      <td>0.000000</td>\n",
              "      <td>206.000000</td>\n",
              "      <td>117.00000</td>\n",
              "      <td>74.500000</td>\n",
              "      <td>23.020000</td>\n",
              "      <td>68.000000</td>\n",
              "      <td>71.000000</td>\n",
              "      <td>0.000000</td>\n",
              "    </tr>\n",
              "    <tr>\n",
              "      <th>50%</th>\n",
              "      <td>1694.500000</td>\n",
              "      <td>49.000000</td>\n",
              "      <td>2.000000</td>\n",
              "      <td>0.000000</td>\n",
              "      <td>0.000000</td>\n",
              "      <td>0.000000</td>\n",
              "      <td>0.000000</td>\n",
              "      <td>0.000000</td>\n",
              "      <td>234.000000</td>\n",
              "      <td>128.50000</td>\n",
              "      <td>82.000000</td>\n",
              "      <td>25.380000</td>\n",
              "      <td>75.000000</td>\n",
              "      <td>78.000000</td>\n",
              "      <td>0.000000</td>\n",
              "    </tr>\n",
              "    <tr>\n",
              "      <th>75%</th>\n",
              "      <td>2541.750000</td>\n",
              "      <td>56.000000</td>\n",
              "      <td>3.000000</td>\n",
              "      <td>20.000000</td>\n",
              "      <td>0.000000</td>\n",
              "      <td>0.000000</td>\n",
              "      <td>1.000000</td>\n",
              "      <td>0.000000</td>\n",
              "      <td>264.000000</td>\n",
              "      <td>144.00000</td>\n",
              "      <td>90.000000</td>\n",
              "      <td>28.040000</td>\n",
              "      <td>83.000000</td>\n",
              "      <td>87.000000</td>\n",
              "      <td>0.000000</td>\n",
              "    </tr>\n",
              "    <tr>\n",
              "      <th>max</th>\n",
              "      <td>3389.000000</td>\n",
              "      <td>70.000000</td>\n",
              "      <td>4.000000</td>\n",
              "      <td>70.000000</td>\n",
              "      <td>1.000000</td>\n",
              "      <td>1.000000</td>\n",
              "      <td>1.000000</td>\n",
              "      <td>1.000000</td>\n",
              "      <td>696.000000</td>\n",
              "      <td>295.00000</td>\n",
              "      <td>142.500000</td>\n",
              "      <td>56.800000</td>\n",
              "      <td>143.000000</td>\n",
              "      <td>394.000000</td>\n",
              "      <td>1.000000</td>\n",
              "    </tr>\n",
              "  </tbody>\n",
              "</table>\n",
              "</div>\n",
              "      <button class=\"colab-df-convert\" onclick=\"convertToInteractive('df-f0595e85-e96b-44ae-9467-9ba9452c9ad5')\"\n",
              "              title=\"Convert this dataframe to an interactive table.\"\n",
              "              style=\"display:none;\">\n",
              "        \n",
              "  <svg xmlns=\"http://www.w3.org/2000/svg\" height=\"24px\"viewBox=\"0 0 24 24\"\n",
              "       width=\"24px\">\n",
              "    <path d=\"M0 0h24v24H0V0z\" fill=\"none\"/>\n",
              "    <path d=\"M18.56 5.44l.94 2.06.94-2.06 2.06-.94-2.06-.94-.94-2.06-.94 2.06-2.06.94zm-11 1L8.5 8.5l.94-2.06 2.06-.94-2.06-.94L8.5 2.5l-.94 2.06-2.06.94zm10 10l.94 2.06.94-2.06 2.06-.94-2.06-.94-.94-2.06-.94 2.06-2.06.94z\"/><path d=\"M17.41 7.96l-1.37-1.37c-.4-.4-.92-.59-1.43-.59-.52 0-1.04.2-1.43.59L10.3 9.45l-7.72 7.72c-.78.78-.78 2.05 0 2.83L4 21.41c.39.39.9.59 1.41.59.51 0 1.02-.2 1.41-.59l7.78-7.78 2.81-2.81c.8-.78.8-2.07 0-2.86zM5.41 20L4 18.59l7.72-7.72 1.47 1.35L5.41 20z\"/>\n",
              "  </svg>\n",
              "      </button>\n",
              "      \n",
              "  <style>\n",
              "    .colab-df-container {\n",
              "      display:flex;\n",
              "      flex-wrap:wrap;\n",
              "      gap: 12px;\n",
              "    }\n",
              "\n",
              "    .colab-df-convert {\n",
              "      background-color: #E8F0FE;\n",
              "      border: none;\n",
              "      border-radius: 50%;\n",
              "      cursor: pointer;\n",
              "      display: none;\n",
              "      fill: #1967D2;\n",
              "      height: 32px;\n",
              "      padding: 0 0 0 0;\n",
              "      width: 32px;\n",
              "    }\n",
              "\n",
              "    .colab-df-convert:hover {\n",
              "      background-color: #E2EBFA;\n",
              "      box-shadow: 0px 1px 2px rgba(60, 64, 67, 0.3), 0px 1px 3px 1px rgba(60, 64, 67, 0.15);\n",
              "      fill: #174EA6;\n",
              "    }\n",
              "\n",
              "    [theme=dark] .colab-df-convert {\n",
              "      background-color: #3B4455;\n",
              "      fill: #D2E3FC;\n",
              "    }\n",
              "\n",
              "    [theme=dark] .colab-df-convert:hover {\n",
              "      background-color: #434B5C;\n",
              "      box-shadow: 0px 1px 3px 1px rgba(0, 0, 0, 0.15);\n",
              "      filter: drop-shadow(0px 1px 2px rgba(0, 0, 0, 0.3));\n",
              "      fill: #FFFFFF;\n",
              "    }\n",
              "  </style>\n",
              "\n",
              "      <script>\n",
              "        const buttonEl =\n",
              "          document.querySelector('#df-f0595e85-e96b-44ae-9467-9ba9452c9ad5 button.colab-df-convert');\n",
              "        buttonEl.style.display =\n",
              "          google.colab.kernel.accessAllowed ? 'block' : 'none';\n",
              "\n",
              "        async function convertToInteractive(key) {\n",
              "          const element = document.querySelector('#df-f0595e85-e96b-44ae-9467-9ba9452c9ad5');\n",
              "          const dataTable =\n",
              "            await google.colab.kernel.invokeFunction('convertToInteractive',\n",
              "                                                     [key], {});\n",
              "          if (!dataTable) return;\n",
              "\n",
              "          const docLinkHtml = 'Like what you see? Visit the ' +\n",
              "            '<a target=\"_blank\" href=https://colab.research.google.com/notebooks/data_table.ipynb>data table notebook</a>'\n",
              "            + ' to learn more about interactive tables.';\n",
              "          element.innerHTML = '';\n",
              "          dataTable['output_type'] = 'display_data';\n",
              "          await google.colab.output.renderOutput(dataTable, element);\n",
              "          const docLink = document.createElement('div');\n",
              "          docLink.innerHTML = docLinkHtml;\n",
              "          element.appendChild(docLink);\n",
              "        }\n",
              "      </script>\n",
              "    </div>\n",
              "  </div>\n",
              "  "
            ]
          },
          "metadata": {},
          "execution_count": 265
        }
      ],
      "source": [
        "data.describe()"
      ]
    },
    {
      "cell_type": "code",
      "execution_count": 266,
      "metadata": {
        "colab": {
          "base_uri": "https://localhost:8080/"
        },
        "id": "DOp_oZSaqVon",
        "outputId": "5c286b6e-840c-4813-dda4-732d6cf80c39"
      },
      "outputs": [
        {
          "output_type": "stream",
          "name": "stdout",
          "text": [
            "<class 'pandas.core.frame.DataFrame'>\n",
            "RangeIndex: 3390 entries, 0 to 3389\n",
            "Data columns (total 17 columns):\n",
            " #   Column           Non-Null Count  Dtype  \n",
            "---  ------           --------------  -----  \n",
            " 0   id               3390 non-null   int64  \n",
            " 1   age              3390 non-null   int64  \n",
            " 2   education        3303 non-null   float64\n",
            " 3   sex              3390 non-null   object \n",
            " 4   is_smoking       3390 non-null   object \n",
            " 5   cigsPerDay       3368 non-null   float64\n",
            " 6   BPMeds           3346 non-null   float64\n",
            " 7   prevalentStroke  3390 non-null   int64  \n",
            " 8   prevalentHyp     3390 non-null   int64  \n",
            " 9   diabetes         3390 non-null   int64  \n",
            " 10  totChol          3352 non-null   float64\n",
            " 11  sysBP            3390 non-null   float64\n",
            " 12  diaBP            3390 non-null   float64\n",
            " 13  BMI              3376 non-null   float64\n",
            " 14  heartRate        3389 non-null   float64\n",
            " 15  glucose          3086 non-null   float64\n",
            " 16  TenYearCHD       3390 non-null   int64  \n",
            "dtypes: float64(9), int64(6), object(2)\n",
            "memory usage: 450.4+ KB\n"
          ]
        }
      ],
      "source": [
        "#Showing the datatype of all features:\n",
        "data.info()"
      ]
    },
    {
      "cell_type": "markdown",
      "metadata": {
        "id": "KOPqvCkkqeL-"
      },
      "source": [
        "### **#Data Cleaning:**\n"
      ]
    },
    {
      "cell_type": "markdown",
      "metadata": {
        "id": "X4K-ZxLsq-5o"
      },
      "source": [
        "Checking for null values:\n",
        "\n"
      ]
    },
    {
      "cell_type": "code",
      "execution_count": 267,
      "metadata": {
        "colab": {
          "base_uri": "https://localhost:8080/",
          "height": 81
        },
        "id": "g29UtfUcqcch",
        "outputId": "cb74f642-031c-4f91-d785-85f7d4854ad6"
      },
      "outputs": [
        {
          "output_type": "execute_result",
          "data": {
            "text/plain": [
              "                  id  age  education  sex  is_smoking  cigsPerDay  BPMeds  \\\n",
              "records missings   0    0         87    0           0          22      44   \n",
              "\n",
              "                  prevalentStroke  prevalentHyp  diabetes  totChol  sysBP  \\\n",
              "records missings                0             0         0       38      0   \n",
              "\n",
              "                  diaBP  BMI  heartRate  glucose  TenYearCHD  \n",
              "records missings      0   14          1      304           0  "
            ],
            "text/html": [
              "\n",
              "  <div id=\"df-c405494e-cabb-4798-ad35-c4826b0d5f94\">\n",
              "    <div class=\"colab-df-container\">\n",
              "      <div>\n",
              "<style scoped>\n",
              "    .dataframe tbody tr th:only-of-type {\n",
              "        vertical-align: middle;\n",
              "    }\n",
              "\n",
              "    .dataframe tbody tr th {\n",
              "        vertical-align: top;\n",
              "    }\n",
              "\n",
              "    .dataframe thead th {\n",
              "        text-align: right;\n",
              "    }\n",
              "</style>\n",
              "<table border=\"1\" class=\"dataframe\">\n",
              "  <thead>\n",
              "    <tr style=\"text-align: right;\">\n",
              "      <th></th>\n",
              "      <th>id</th>\n",
              "      <th>age</th>\n",
              "      <th>education</th>\n",
              "      <th>sex</th>\n",
              "      <th>is_smoking</th>\n",
              "      <th>cigsPerDay</th>\n",
              "      <th>BPMeds</th>\n",
              "      <th>prevalentStroke</th>\n",
              "      <th>prevalentHyp</th>\n",
              "      <th>diabetes</th>\n",
              "      <th>totChol</th>\n",
              "      <th>sysBP</th>\n",
              "      <th>diaBP</th>\n",
              "      <th>BMI</th>\n",
              "      <th>heartRate</th>\n",
              "      <th>glucose</th>\n",
              "      <th>TenYearCHD</th>\n",
              "    </tr>\n",
              "  </thead>\n",
              "  <tbody>\n",
              "    <tr>\n",
              "      <th>records missings</th>\n",
              "      <td>0</td>\n",
              "      <td>0</td>\n",
              "      <td>87</td>\n",
              "      <td>0</td>\n",
              "      <td>0</td>\n",
              "      <td>22</td>\n",
              "      <td>44</td>\n",
              "      <td>0</td>\n",
              "      <td>0</td>\n",
              "      <td>0</td>\n",
              "      <td>38</td>\n",
              "      <td>0</td>\n",
              "      <td>0</td>\n",
              "      <td>14</td>\n",
              "      <td>1</td>\n",
              "      <td>304</td>\n",
              "      <td>0</td>\n",
              "    </tr>\n",
              "  </tbody>\n",
              "</table>\n",
              "</div>\n",
              "      <button class=\"colab-df-convert\" onclick=\"convertToInteractive('df-c405494e-cabb-4798-ad35-c4826b0d5f94')\"\n",
              "              title=\"Convert this dataframe to an interactive table.\"\n",
              "              style=\"display:none;\">\n",
              "        \n",
              "  <svg xmlns=\"http://www.w3.org/2000/svg\" height=\"24px\"viewBox=\"0 0 24 24\"\n",
              "       width=\"24px\">\n",
              "    <path d=\"M0 0h24v24H0V0z\" fill=\"none\"/>\n",
              "    <path d=\"M18.56 5.44l.94 2.06.94-2.06 2.06-.94-2.06-.94-.94-2.06-.94 2.06-2.06.94zm-11 1L8.5 8.5l.94-2.06 2.06-.94-2.06-.94L8.5 2.5l-.94 2.06-2.06.94zm10 10l.94 2.06.94-2.06 2.06-.94-2.06-.94-.94-2.06-.94 2.06-2.06.94z\"/><path d=\"M17.41 7.96l-1.37-1.37c-.4-.4-.92-.59-1.43-.59-.52 0-1.04.2-1.43.59L10.3 9.45l-7.72 7.72c-.78.78-.78 2.05 0 2.83L4 21.41c.39.39.9.59 1.41.59.51 0 1.02-.2 1.41-.59l7.78-7.78 2.81-2.81c.8-.78.8-2.07 0-2.86zM5.41 20L4 18.59l7.72-7.72 1.47 1.35L5.41 20z\"/>\n",
              "  </svg>\n",
              "      </button>\n",
              "      \n",
              "  <style>\n",
              "    .colab-df-container {\n",
              "      display:flex;\n",
              "      flex-wrap:wrap;\n",
              "      gap: 12px;\n",
              "    }\n",
              "\n",
              "    .colab-df-convert {\n",
              "      background-color: #E8F0FE;\n",
              "      border: none;\n",
              "      border-radius: 50%;\n",
              "      cursor: pointer;\n",
              "      display: none;\n",
              "      fill: #1967D2;\n",
              "      height: 32px;\n",
              "      padding: 0 0 0 0;\n",
              "      width: 32px;\n",
              "    }\n",
              "\n",
              "    .colab-df-convert:hover {\n",
              "      background-color: #E2EBFA;\n",
              "      box-shadow: 0px 1px 2px rgba(60, 64, 67, 0.3), 0px 1px 3px 1px rgba(60, 64, 67, 0.15);\n",
              "      fill: #174EA6;\n",
              "    }\n",
              "\n",
              "    [theme=dark] .colab-df-convert {\n",
              "      background-color: #3B4455;\n",
              "      fill: #D2E3FC;\n",
              "    }\n",
              "\n",
              "    [theme=dark] .colab-df-convert:hover {\n",
              "      background-color: #434B5C;\n",
              "      box-shadow: 0px 1px 3px 1px rgba(0, 0, 0, 0.15);\n",
              "      filter: drop-shadow(0px 1px 2px rgba(0, 0, 0, 0.3));\n",
              "      fill: #FFFFFF;\n",
              "    }\n",
              "  </style>\n",
              "\n",
              "      <script>\n",
              "        const buttonEl =\n",
              "          document.querySelector('#df-c405494e-cabb-4798-ad35-c4826b0d5f94 button.colab-df-convert');\n",
              "        buttonEl.style.display =\n",
              "          google.colab.kernel.accessAllowed ? 'block' : 'none';\n",
              "\n",
              "        async function convertToInteractive(key) {\n",
              "          const element = document.querySelector('#df-c405494e-cabb-4798-ad35-c4826b0d5f94');\n",
              "          const dataTable =\n",
              "            await google.colab.kernel.invokeFunction('convertToInteractive',\n",
              "                                                     [key], {});\n",
              "          if (!dataTable) return;\n",
              "\n",
              "          const docLinkHtml = 'Like what you see? Visit the ' +\n",
              "            '<a target=\"_blank\" href=https://colab.research.google.com/notebooks/data_table.ipynb>data table notebook</a>'\n",
              "            + ' to learn more about interactive tables.';\n",
              "          element.innerHTML = '';\n",
              "          dataTable['output_type'] = 'display_data';\n",
              "          await google.colab.output.renderOutput(dataTable, element);\n",
              "          const docLink = document.createElement('div');\n",
              "          docLink.innerHTML = docLinkHtml;\n",
              "          element.appendChild(docLink);\n",
              "        }\n",
              "      </script>\n",
              "    </div>\n",
              "  </div>\n",
              "  "
            ]
          },
          "metadata": {},
          "execution_count": 267
        }
      ],
      "source": [
        "pd.DataFrame(data.isna().sum(),columns=['records missings']).T\n"
      ]
    },
    {
      "cell_type": "code",
      "execution_count": 268,
      "metadata": {
        "colab": {
          "base_uri": "https://localhost:8080/"
        },
        "id": "a02r4cmlrMCq",
        "outputId": "511bd80a-bdd8-42d2-e449-60d18b41356a"
      },
      "outputs": [
        {
          "output_type": "stream",
          "name": "stdout",
          "text": [
            "(2927, 17)\n"
          ]
        }
      ],
      "source": [
        "data.dropna(axis = 0, inplace = True) \n",
        "print(data.shape)"
      ]
    },
    {
      "cell_type": "code",
      "execution_count": 269,
      "metadata": {
        "colab": {
          "base_uri": "https://localhost:8080/",
          "height": 602
        },
        "id": "I9adrLSVrYc2",
        "outputId": "32e11e3e-8bd5-4634-b0d2-ced14b6c9743"
      },
      "outputs": [
        {
          "output_type": "execute_result",
          "data": {
            "text/plain": [
              "<matplotlib.axes._subplots.AxesSubplot at 0x7f0b43333b50>"
            ]
          },
          "metadata": {},
          "execution_count": 269
        },
        {
          "output_type": "display_data",
          "data": {
            "text/plain": [
              "<Figure size 1080x576 with 2 Axes>"
            ],
            "image/png": "[encoded data removed]"
          },
          "metadata": {
            "needs_background": "light"
          }
        }
      ],
      "source": [
        "#Checking for nan values:\n",
        "\n",
        "mno.matrix(data,figsize=(15,8))\n"
      ]
    },
    {
      "cell_type": "markdown",
      "metadata": {
        "id": "c0O0C_bmsY7q"
      },
      "source": [
        "## **#Data Visualization:**\n"
      ]
    },
    {
      "cell_type": "markdown",
      "metadata": {
        "id": "XiGsoUXIs_ca"
      },
      "source": [
        "**#Seprate dependent and independent variables:**\n",
        "\n"
      ]
    },
    {
      "cell_type": "code",
      "execution_count": 270,
      "metadata": {
        "id": "LKE91AU8rcow"
      },
      "outputs": [],
      "source": [
        "dependent_variable = 'TenYearCHD'\n"
      ]
    },
    {
      "cell_type": "code",
      "execution_count": 271,
      "metadata": {
        "colab": {
          "base_uri": "https://localhost:8080/"
        },
        "id": "qxs6X0XBtEF3",
        "outputId": "6558eaca-6ec1-4586-b861-459f482edaa7"
      },
      "outputs": [
        {
          "output_type": "execute_result",
          "data": {
            "text/plain": [
              "['heartRate',\n",
              " 'BPMeds',\n",
              " 'cigsPerDay',\n",
              " 'prevalentStroke',\n",
              " 'BMI',\n",
              " 'education',\n",
              " 'diaBP',\n",
              " 'glucose',\n",
              " 'prevalentHyp',\n",
              " 'totChol',\n",
              " 'sex',\n",
              " 'id',\n",
              " 'age',\n",
              " 'sysBP',\n",
              " 'is_smoking',\n",
              " 'diabetes']"
            ]
          },
          "metadata": {},
          "execution_count": 271
        }
      ],
      "source": [
        "independent_variables = list(set(data.columns.tolist()) - {dependent_variable})\n",
        "independent_variables"
      ]
    },
    {
      "cell_type": "code",
      "execution_count": 272,
      "metadata": {
        "id": "N9SBwdGCtG1X"
      },
      "outputs": [],
      "source": [
        "# Divide the columns based on the type for clear management:\n",
        "col_Demographic = [ 'age', 'education', 'sex']\n",
        "\n",
        "col_Behavioral = ['is_smoking', 'cigsPerDay']\n",
        "\n",
        "col_medical_history = ['BPMeds', 'prevalentStroke', 'prevalentHyp', 'diabetes', 'totChol', 'sysBP',\n",
        "       'diaBP', 'BMI', 'heartRate', 'glucose']\n",
        "\n",
        "col_medical_current = ['totChol', 'sysBP', 'diaBP', 'BMI', 'heartRate', 'glucose']\n",
        "\n",
        "col_target = ['TenYearCHD']"
      ]
    },
    {
      "cell_type": "code",
      "execution_count": 273,
      "metadata": {
        "id": "krqRTK86uloF"
      },
      "outputs": [],
      "source": [
        "independent_vars = data[col_Demographic + col_Behavioral + col_medical_history + col_medical_current]\n",
        "dependent_vars = data[col_target]"
      ]
    },
    {
      "cell_type": "code",
      "execution_count": 274,
      "metadata": {
        "colab": {
          "base_uri": "https://localhost:8080/",
          "height": 364
        },
        "id": "cwLgafbvuqVa",
        "outputId": "38e7c46c-13aa-4485-a6d6-4d8e815dbd53"
      },
      "outputs": [
        {
          "output_type": "execute_result",
          "data": {
            "text/plain": [
              "               age    education   cigsPerDay       BPMeds  prevalentStroke  \\\n",
              "count  2927.000000  2927.000000  2927.000000  2927.000000      2927.000000   \n",
              "mean     49.507345     1.965494     9.112743     0.030065         0.006150   \n",
              "std       8.597191     1.017199    11.882784     0.170795         0.078192   \n",
              "min      32.000000     1.000000     0.000000     0.000000         0.000000   \n",
              "25%      42.000000     1.000000     0.000000     0.000000         0.000000   \n",
              "50%      49.000000     2.000000     0.000000     0.000000         0.000000   \n",
              "75%      56.000000     3.000000    20.000000     0.000000         0.000000   \n",
              "max      70.000000     4.000000    70.000000     1.000000         1.000000   \n",
              "\n",
              "       prevalentHyp     diabetes      totChol        sysBP        diaBP  \\\n",
              "count   2927.000000  2927.000000  2927.000000  2927.000000  2927.000000   \n",
              "mean       0.314315     0.026990   237.129142   132.626409    82.906218   \n",
              "std        0.464322     0.162082    44.613282    22.326197    12.078873   \n",
              "min        0.000000     0.000000   113.000000    83.500000    48.000000   \n",
              "25%        0.000000     0.000000   206.000000   117.000000    74.500000   \n",
              "50%        0.000000     0.000000   234.000000   128.500000    82.000000   \n",
              "75%        1.000000     0.000000   264.000000   144.000000    90.000000   \n",
              "max        1.000000     1.000000   600.000000   295.000000   142.500000   \n",
              "\n",
              "               BMI    heartRate      glucose      totChol        sysBP  \\\n",
              "count  2927.000000  2927.000000  2927.000000  2927.000000  2927.000000   \n",
              "mean     25.797041    75.888282    81.934404   237.129142   132.626409   \n",
              "std       4.130376    11.971207    24.106943    44.613282    22.326197   \n",
              "min      15.960000    45.000000    40.000000   113.000000    83.500000   \n",
              "25%      23.030000    68.000000    71.000000   206.000000   117.000000   \n",
              "50%      25.380000    75.000000    78.000000   234.000000   128.500000   \n",
              "75%      28.040000    83.000000    87.000000   264.000000   144.000000   \n",
              "max      56.800000   143.000000   394.000000   600.000000   295.000000   \n",
              "\n",
              "             diaBP          BMI    heartRate      glucose  \n",
              "count  2927.000000  2927.000000  2927.000000  2927.000000  \n",
              "mean     82.906218    25.797041    75.888282    81.934404  \n",
              "std      12.078873     4.130376    11.971207    24.106943  \n",
              "min      48.000000    15.960000    45.000000    40.000000  \n",
              "25%      74.500000    23.030000    68.000000    71.000000  \n",
              "50%      82.000000    25.380000    75.000000    78.000000  \n",
              "75%      90.000000    28.040000    83.000000    87.000000  \n",
              "max     142.500000    56.800000   143.000000   394.000000  "
            ],
            "text/html": [
              "\n",
              "  <div id=\"df-4ccd2de3-525b-4377-83b9-1ba8f25cdfed\">\n",
              "    <div class=\"colab-df-container\">\n",
              "      <div>\n",
              "<style scoped>\n",
              "    .dataframe tbody tr th:only-of-type {\n",
              "        vertical-align: middle;\n",
              "    }\n",
              "\n",
              "    .dataframe tbody tr th {\n",
              "        vertical-align: top;\n",
              "    }\n",
              "\n",
              "    .dataframe thead th {\n",
              "        text-align: right;\n",
              "    }\n",
              "</style>\n",
              "<table border=\"1\" class=\"dataframe\">\n",
              "  <thead>\n",
              "    <tr style=\"text-align: right;\">\n",
              "      <th></th>\n",
              "      <th>age</th>\n",
              "      <th>education</th>\n",
              "      <th>cigsPerDay</th>\n",
              "      <th>BPMeds</th>\n",
              "      <th>prevalentStroke</th>\n",
              "      <th>prevalentHyp</th>\n",
              "      <th>diabetes</th>\n",
              "      <th>totChol</th>\n",
              "      <th>sysBP</th>\n",
              "      <th>diaBP</th>\n",
              "      <th>BMI</th>\n",
              "      <th>heartRate</th>\n",
              "      <th>glucose</th>\n",
              "      <th>totChol</th>\n",
              "      <th>sysBP</th>\n",
              "      <th>diaBP</th>\n",
              "      <th>BMI</th>\n",
              "      <th>heartRate</th>\n",
              "      <th>glucose</th>\n",
              "    </tr>\n",
              "  </thead>\n",
              "  <tbody>\n",
              "    <tr>\n",
              "      <th>count</th>\n",
              "      <td>2927.000000</td>\n",
              "      <td>2927.000000</td>\n",
              "      <td>2927.000000</td>\n",
              "      <td>2927.000000</td>\n",
              "      <td>2927.000000</td>\n",
              "      <td>2927.000000</td>\n",
              "      <td>2927.000000</td>\n",
              "      <td>2927.000000</td>\n",
              "      <td>2927.000000</td>\n",
              "      <td>2927.000000</td>\n",
              "      <td>2927.000000</td>\n",
              "      <td>2927.000000</td>\n",
              "      <td>2927.000000</td>\n",
              "      <td>2927.000000</td>\n",
              "      <td>2927.000000</td>\n",
              "      <td>2927.000000</td>\n",
              "      <td>2927.000000</td>\n",
              "      <td>2927.000000</td>\n",
              "      <td>2927.000000</td>\n",
              "    </tr>\n",
              "    <tr>\n",
              "      <th>mean</th>\n",
              "      <td>49.507345</td>\n",
              "      <td>1.965494</td>\n",
              "      <td>9.112743</td>\n",
              "      <td>0.030065</td>\n",
              "      <td>0.006150</td>\n",
              "      <td>0.314315</td>\n",
              "      <td>0.026990</td>\n",
              "      <td>237.129142</td>\n",
              "      <td>132.626409</td>\n",
              "      <td>82.906218</td>\n",
              "      <td>25.797041</td>\n",
              "      <td>75.888282</td>\n",
              "      <td>81.934404</td>\n",
              "      <td>237.129142</td>\n",
              "      <td>132.626409</td>\n",
              "      <td>82.906218</td>\n",
              "      <td>25.797041</td>\n",
              "      <td>75.888282</td>\n",
              "      <td>81.934404</td>\n",
              "    </tr>\n",
              "    <tr>\n",
              "      <th>std</th>\n",
              "      <td>8.597191</td>\n",
              "      <td>1.017199</td>\n",
              "      <td>11.882784</td>\n",
              "      <td>0.170795</td>\n",
              "      <td>0.078192</td>\n",
              "      <td>0.464322</td>\n",
              "      <td>0.162082</td>\n",
              "      <td>44.613282</td>\n",
              "      <td>22.326197</td>\n",
              "      <td>12.078873</td>\n",
              "      <td>4.130376</td>\n",
              "      <td>11.971207</td>\n",
              "      <td>24.106943</td>\n",
              "      <td>44.613282</td>\n",
              "      <td>22.326197</td>\n",
              "      <td>12.078873</td>\n",
              "      <td>4.130376</td>\n",
              "      <td>11.971207</td>\n",
              "      <td>24.106943</td>\n",
              "    </tr>\n",
              "    <tr>\n",
              "      <th>min</th>\n",
              "      <td>32.000000</td>\n",
              "      <td>1.000000</td>\n",
              "      <td>0.000000</td>\n",
              "      <td>0.000000</td>\n",
              "      <td>0.000000</td>\n",
              "      <td>0.000000</td>\n",
              "      <td>0.000000</td>\n",
              "      <td>113.000000</td>\n",
              "      <td>83.500000</td>\n",
              "      <td>48.000000</td>\n",
              "      <td>15.960000</td>\n",
              "      <td>45.000000</td>\n",
              "      <td>40.000000</td>\n",
              "      <td>113.000000</td>\n",
              "      <td>83.500000</td>\n",
              "      <td>48.000000</td>\n",
              "      <td>15.960000</td>\n",
              "      <td>45.000000</td>\n",
              "      <td>40.000000</td>\n",
              "    </tr>\n",
              "    <tr>\n",
              "      <th>25%</th>\n",
              "      <td>42.000000</td>\n",
              "      <td>1.000000</td>\n",
              "      <td>0.000000</td>\n",
              "      <td>0.000000</td>\n",
              "      <td>0.000000</td>\n",
              "      <td>0.000000</td>\n",
              "      <td>0.000000</td>\n",
              "      <td>206.000000</td>\n",
              "      <td>117.000000</td>\n",
              "      <td>74.500000</td>\n",
              "      <td>23.030000</td>\n",
              "      <td>68.000000</td>\n",
              "      <td>71.000000</td>\n",
              "      <td>206.000000</td>\n",
              "      <td>117.000000</td>\n",
              "      <td>74.500000</td>\n",
              "      <td>23.030000</td>\n",
              "      <td>68.000000</td>\n",
              "      <td>71.000000</td>\n",
              "    </tr>\n",
              "    <tr>\n",
              "      <th>50%</th>\n",
              "      <td>49.000000</td>\n",
              "      <td>2.000000</td>\n",
              "      <td>0.000000</td>\n",
              "      <td>0.000000</td>\n",
              "      <td>0.000000</td>\n",
              "      <td>0.000000</td>\n",
              "      <td>0.000000</td>\n",
              "      <td>234.000000</td>\n",
              "      <td>128.500000</td>\n",
              "      <td>82.000000</td>\n",
              "      <td>25.380000</td>\n",
              "      <td>75.000000</td>\n",
              "      <td>78.000000</td>\n",
              "      <td>234.000000</td>\n",
              "      <td>128.500000</td>\n",
              "      <td>82.000000</td>\n",
              "      <td>25.380000</td>\n",
              "      <td>75.000000</td>\n",
              "      <td>78.000000</td>\n",
              "    </tr>\n",
              "    <tr>\n",
              "      <th>75%</th>\n",
              "      <td>56.000000</td>\n",
              "      <td>3.000000</td>\n",
              "      <td>20.000000</td>\n",
              "      <td>0.000000</td>\n",
              "      <td>0.000000</td>\n",
              "      <td>1.000000</td>\n",
              "      <td>0.000000</td>\n",
              "      <td>264.000000</td>\n",
              "      <td>144.000000</td>\n",
              "      <td>90.000000</td>\n",
              "      <td>28.040000</td>\n",
              "      <td>83.000000</td>\n",
              "      <td>87.000000</td>\n",
              "      <td>264.000000</td>\n",
              "      <td>144.000000</td>\n",
              "      <td>90.000000</td>\n",
              "      <td>28.040000</td>\n",
              "      <td>83.000000</td>\n",
              "      <td>87.000000</td>\n",
              "    </tr>\n",
              "    <tr>\n",
              "      <th>max</th>\n",
              "      <td>70.000000</td>\n",
              "      <td>4.000000</td>\n",
              "      <td>70.000000</td>\n",
              "      <td>1.000000</td>\n",
              "      <td>1.000000</td>\n",
              "      <td>1.000000</td>\n",
              "      <td>1.000000</td>\n",
              "      <td>600.000000</td>\n",
              "      <td>295.000000</td>\n",
              "      <td>142.500000</td>\n",
              "      <td>56.800000</td>\n",
              "      <td>143.000000</td>\n",
              "      <td>394.000000</td>\n",
              "      <td>600.000000</td>\n",
              "      <td>295.000000</td>\n",
              "      <td>142.500000</td>\n",
              "      <td>56.800000</td>\n",
              "      <td>143.000000</td>\n",
              "      <td>394.000000</td>\n",
              "    </tr>\n",
              "  </tbody>\n",
              "</table>\n",
              "</div>\n",
              "      <button class=\"colab-df-convert\" onclick=\"convertToInteractive('df-4ccd2de3-525b-4377-83b9-1ba8f25cdfed')\"\n",
              "              title=\"Convert this dataframe to an interactive table.\"\n",
              "              style=\"display:none;\">\n",
              "        \n",
              "  <svg xmlns=\"http://www.w3.org/2000/svg\" height=\"24px\"viewBox=\"0 0 24 24\"\n",
              "       width=\"24px\">\n",
              "    <path d=\"M0 0h24v24H0V0z\" fill=\"none\"/>\n",
              "    <path d=\"M18.56 5.44l.94 2.06.94-2.06 2.06-.94-2.06-.94-.94-2.06-.94 2.06-2.06.94zm-11 1L8.5 8.5l.94-2.06 2.06-.94-2.06-.94L8.5 2.5l-.94 2.06-2.06.94zm10 10l.94 2.06.94-2.06 2.06-.94-2.06-.94-.94-2.06-.94 2.06-2.06.94z\"/><path d=\"M17.41 7.96l-1.37-1.37c-.4-.4-.92-.59-1.43-.59-.52 0-1.04.2-1.43.59L10.3 9.45l-7.72 7.72c-.78.78-.78 2.05 0 2.83L4 21.41c.39.39.9.59 1.41.59.51 0 1.02-.2 1.41-.59l7.78-7.78 2.81-2.81c.8-.78.8-2.07 0-2.86zM5.41 20L4 18.59l7.72-7.72 1.47 1.35L5.41 20z\"/>\n",
              "  </svg>\n",
              "      </button>\n",
              "      \n",
              "  <style>\n",
              "    .colab-df-container {\n",
              "      display:flex;\n",
              "      flex-wrap:wrap;\n",
              "      gap: 12px;\n",
              "    }\n",
              "\n",
              "    .colab-df-convert {\n",
              "      background-color: #E8F0FE;\n",
              "      border: none;\n",
              "      border-radius: 50%;\n",
              "      cursor: pointer;\n",
              "      display: none;\n",
              "      fill: #1967D2;\n",
              "      height: 32px;\n",
              "      padding: 0 0 0 0;\n",
              "      width: 32px;\n",
              "    }\n",
              "\n",
              "    .colab-df-convert:hover {\n",
              "      background-color: #E2EBFA;\n",
              "      box-shadow: 0px 1px 2px rgba(60, 64, 67, 0.3), 0px 1px 3px 1px rgba(60, 64, 67, 0.15);\n",
              "      fill: #174EA6;\n",
              "    }\n",
              "\n",
              "    [theme=dark] .colab-df-convert {\n",
              "      background-color: #3B4455;\n",
              "      fill: #D2E3FC;\n",
              "    }\n",
              "\n",
              "    [theme=dark] .colab-df-convert:hover {\n",
              "      background-color: #434B5C;\n",
              "      box-shadow: 0px 1px 3px 1px rgba(0, 0, 0, 0.15);\n",
              "      filter: drop-shadow(0px 1px 2px rgba(0, 0, 0, 0.3));\n",
              "      fill: #FFFFFF;\n",
              "    }\n",
              "  </style>\n",
              "\n",
              "      <script>\n",
              "        const buttonEl =\n",
              "          document.querySelector('#df-4ccd2de3-525b-4377-83b9-1ba8f25cdfed button.colab-df-convert');\n",
              "        buttonEl.style.display =\n",
              "          google.colab.kernel.accessAllowed ? 'block' : 'none';\n",
              "\n",
              "        async function convertToInteractive(key) {\n",
              "          const element = document.querySelector('#df-4ccd2de3-525b-4377-83b9-1ba8f25cdfed');\n",
              "          const dataTable =\n",
              "            await google.colab.kernel.invokeFunction('convertToInteractive',\n",
              "                                                     [key], {});\n",
              "          if (!dataTable) return;\n",
              "\n",
              "          const docLinkHtml = 'Like what you see? Visit the ' +\n",
              "            '<a target=\"_blank\" href=https://colab.research.google.com/notebooks/data_table.ipynb>data table notebook</a>'\n",
              "            + ' to learn more about interactive tables.';\n",
              "          element.innerHTML = '';\n",
              "          dataTable['output_type'] = 'display_data';\n",
              "          await google.colab.output.renderOutput(dataTable, element);\n",
              "          const docLink = document.createElement('div');\n",
              "          docLink.innerHTML = docLinkHtml;\n",
              "          element.appendChild(docLink);\n",
              "        }\n",
              "      </script>\n",
              "    </div>\n",
              "  </div>\n",
              "  "
            ]
          },
          "metadata": {},
          "execution_count": 274
        }
      ],
      "source": [
        "independent_vars.describe()\n"
      ]
    },
    {
      "cell_type": "code",
      "execution_count": 275,
      "metadata": {
        "colab": {
          "base_uri": "https://localhost:8080/",
          "height": 300
        },
        "id": "n8FbYNwZuyI7",
        "outputId": "4cafc5a4-3c6b-4407-8642-b7a766d4536c"
      },
      "outputs": [
        {
          "output_type": "execute_result",
          "data": {
            "text/plain": [
              "        TenYearCHD\n",
              "count  2927.000000\n",
              "mean      0.151691\n",
              "std       0.358783\n",
              "min       0.000000\n",
              "25%       0.000000\n",
              "50%       0.000000\n",
              "75%       0.000000\n",
              "max       1.000000"
            ],
            "text/html": [
              "\n",
              "  <div id=\"df-2f224957-b4b1-488f-94a5-fb5b24bd1fd0\">\n",
              "    <div class=\"colab-df-container\">\n",
              "      <div>\n",
              "<style scoped>\n",
              "    .dataframe tbody tr th:only-of-type {\n",
              "        vertical-align: middle;\n",
              "    }\n",
              "\n",
              "    .dataframe tbody tr th {\n",
              "        vertical-align: top;\n",
              "    }\n",
              "\n",
              "    .dataframe thead th {\n",
              "        text-align: right;\n",
              "    }\n",
              "</style>\n",
              "<table border=\"1\" class=\"dataframe\">\n",
              "  <thead>\n",
              "    <tr style=\"text-align: right;\">\n",
              "      <th></th>\n",
              "      <th>TenYearCHD</th>\n",
              "    </tr>\n",
              "  </thead>\n",
              "  <tbody>\n",
              "    <tr>\n",
              "      <th>count</th>\n",
              "      <td>2927.000000</td>\n",
              "    </tr>\n",
              "    <tr>\n",
              "      <th>mean</th>\n",
              "      <td>0.151691</td>\n",
              "    </tr>\n",
              "    <tr>\n",
              "      <th>std</th>\n",
              "      <td>0.358783</td>\n",
              "    </tr>\n",
              "    <tr>\n",
              "      <th>min</th>\n",
              "      <td>0.000000</td>\n",
              "    </tr>\n",
              "    <tr>\n",
              "      <th>25%</th>\n",
              "      <td>0.000000</td>\n",
              "    </tr>\n",
              "    <tr>\n",
              "      <th>50%</th>\n",
              "      <td>0.000000</td>\n",
              "    </tr>\n",
              "    <tr>\n",
              "      <th>75%</th>\n",
              "      <td>0.000000</td>\n",
              "    </tr>\n",
              "    <tr>\n",
              "      <th>max</th>\n",
              "      <td>1.000000</td>\n",
              "    </tr>\n",
              "  </tbody>\n",
              "</table>\n",
              "</div>\n",
              "      <button class=\"colab-df-convert\" onclick=\"convertToInteractive('df-2f224957-b4b1-488f-94a5-fb5b24bd1fd0')\"\n",
              "              title=\"Convert this dataframe to an interactive table.\"\n",
              "              style=\"display:none;\">\n",
              "        \n",
              "  <svg xmlns=\"http://www.w3.org/2000/svg\" height=\"24px\"viewBox=\"0 0 24 24\"\n",
              "       width=\"24px\">\n",
              "    <path d=\"M0 0h24v24H0V0z\" fill=\"none\"/>\n",
              "    <path d=\"M18.56 5.44l.94 2.06.94-2.06 2.06-.94-2.06-.94-.94-2.06-.94 2.06-2.06.94zm-11 1L8.5 8.5l.94-2.06 2.06-.94-2.06-.94L8.5 2.5l-.94 2.06-2.06.94zm10 10l.94 2.06.94-2.06 2.06-.94-2.06-.94-.94-2.06-.94 2.06-2.06.94z\"/><path d=\"M17.41 7.96l-1.37-1.37c-.4-.4-.92-.59-1.43-.59-.52 0-1.04.2-1.43.59L10.3 9.45l-7.72 7.72c-.78.78-.78 2.05 0 2.83L4 21.41c.39.39.9.59 1.41.59.51 0 1.02-.2 1.41-.59l7.78-7.78 2.81-2.81c.8-.78.8-2.07 0-2.86zM5.41 20L4 18.59l7.72-7.72 1.47 1.35L5.41 20z\"/>\n",
              "  </svg>\n",
              "      </button>\n",
              "      \n",
              "  <style>\n",
              "    .colab-df-container {\n",
              "      display:flex;\n",
              "      flex-wrap:wrap;\n",
              "      gap: 12px;\n",
              "    }\n",
              "\n",
              "    .colab-df-convert {\n",
              "      background-color: #E8F0FE;\n",
              "      border: none;\n",
              "      border-radius: 50%;\n",
              "      cursor: pointer;\n",
              "      display: none;\n",
              "      fill: #1967D2;\n",
              "      height: 32px;\n",
              "      padding: 0 0 0 0;\n",
              "      width: 32px;\n",
              "    }\n",
              "\n",
              "    .colab-df-convert:hover {\n",
              "      background-color: #E2EBFA;\n",
              "      box-shadow: 0px 1px 2px rgba(60, 64, 67, 0.3), 0px 1px 3px 1px rgba(60, 64, 67, 0.15);\n",
              "      fill: #174EA6;\n",
              "    }\n",
              "\n",
              "    [theme=dark] .colab-df-convert {\n",
              "      background-color: #3B4455;\n",
              "      fill: #D2E3FC;\n",
              "    }\n",
              "\n",
              "    [theme=dark] .colab-df-convert:hover {\n",
              "      background-color: #434B5C;\n",
              "      box-shadow: 0px 1px 3px 1px rgba(0, 0, 0, 0.15);\n",
              "      filter: drop-shadow(0px 1px 2px rgba(0, 0, 0, 0.3));\n",
              "      fill: #FFFFFF;\n",
              "    }\n",
              "  </style>\n",
              "\n",
              "      <script>\n",
              "        const buttonEl =\n",
              "          document.querySelector('#df-2f224957-b4b1-488f-94a5-fb5b24bd1fd0 button.colab-df-convert');\n",
              "        buttonEl.style.display =\n",
              "          google.colab.kernel.accessAllowed ? 'block' : 'none';\n",
              "\n",
              "        async function convertToInteractive(key) {\n",
              "          const element = document.querySelector('#df-2f224957-b4b1-488f-94a5-fb5b24bd1fd0');\n",
              "          const dataTable =\n",
              "            await google.colab.kernel.invokeFunction('convertToInteractive',\n",
              "                                                     [key], {});\n",
              "          if (!dataTable) return;\n",
              "\n",
              "          const docLinkHtml = 'Like what you see? Visit the ' +\n",
              "            '<a target=\"_blank\" href=https://colab.research.google.com/notebooks/data_table.ipynb>data table notebook</a>'\n",
              "            + ' to learn more about interactive tables.';\n",
              "          element.innerHTML = '';\n",
              "          dataTable['output_type'] = 'display_data';\n",
              "          await google.colab.output.renderOutput(dataTable, element);\n",
              "          const docLink = document.createElement('div');\n",
              "          docLink.innerHTML = docLinkHtml;\n",
              "          element.appendChild(docLink);\n",
              "        }\n",
              "      </script>\n",
              "    </div>\n",
              "  </div>\n",
              "  "
            ]
          },
          "metadata": {},
          "execution_count": 275
        }
      ],
      "source": [
        "dependent_vars.describe()\n"
      ]
    },
    {
      "cell_type": "markdown",
      "metadata": {
        "id": "mAza1DKku17k"
      },
      "source": [
        "### **#Hitogram for all the features to understand the distribution:**\n",
        "\n"
      ]
    },
    {
      "cell_type": "code",
      "execution_count": 276,
      "metadata": {
        "colab": {
          "base_uri": "https://localhost:8080/",
          "height": 917
        },
        "id": "yeG-euDlu0hF",
        "outputId": "eb0e2af8-dc37-45b9-8346-c6e79be458aa"
      },
      "outputs": [
        {
          "output_type": "display_data",
          "data": {
            "text/plain": [
              "<Figure size 1800x1152 with 20 Axes>"
            ],
            "image/png": "[encoded data removed]"
          },
          "metadata": {
            "needs_background": "light"
          }
        }
      ],
      "source": [
        "independent_vars.hist(figsize= (25,16))\n",
        "plt.show()"
      ]
    },
    {
      "cell_type": "code",
      "execution_count": 277,
      "metadata": {
        "colab": {
          "base_uri": "https://localhost:8080/",
          "height": 316
        },
        "id": "OdR7lXiju84o",
        "outputId": "cc163915-e6e8-4621-e7d5-ff534f7a6085"
      },
      "outputs": [
        {
          "output_type": "execute_result",
          "data": {
            "text/plain": [
              "array([[<matplotlib.axes._subplots.AxesSubplot object at 0x7f0b441144d0>]],\n",
              "      dtype=object)"
            ]
          },
          "metadata": {},
          "execution_count": 277
        },
        {
          "output_type": "display_data",
          "data": {
            "text/plain": [
              "<Figure size 288x288 with 1 Axes>"
            ],
            "image/png": "[encoded data removed]"
          },
          "metadata": {
            "needs_background": "light"
          }
        }
      ],
      "source": [
        "dependent_vars.hist()\n"
      ]
    },
    {
      "cell_type": "markdown",
      "metadata": {
        "id": "LAmzwnGswUed"
      },
      "source": [
        "### **#Checking for Outliers:**\n",
        "\n"
      ]
    },
    {
      "cell_type": "code",
      "execution_count": 278,
      "metadata": {
        "colab": {
          "base_uri": "https://localhost:8080/",
          "height": 464
        },
        "id": "JTdahNrJwRzW",
        "outputId": "a80c4b78-faab-48fc-81ab-479314f651b8"
      },
      "outputs": [
        {
          "output_type": "display_data",
          "data": {
            "text/plain": [
              "<Figure size 1296x504 with 1 Axes>"
            ],
            "image/png": "[encoded data removed]"
          },
          "metadata": {
            "needs_background": "light"
          }
        }
      ],
      "source": [
        "plt.figure(figsize=(18,7))\n",
        "sns.boxplot(data=data)\n",
        "plt.title('Checking for outliers', size=16)\n",
        "plt.xlabel('Features', size=14)\n",
        "plt.show()"
      ]
    },
    {
      "cell_type": "markdown",
      "metadata": {
        "id": "ZtIk2YN1wi_l"
      },
      "source": [
        "### **#Visualization on Dependent and Independent Variables:**\n"
      ]
    },
    {
      "cell_type": "markdown",
      "metadata": {
        "id": "NnMiw4s6wqpU"
      },
      "source": [
        "Predict variable (desired target):\n",
        "\n"
      ]
    },
    {
      "cell_type": "code",
      "execution_count": 279,
      "metadata": {
        "colab": {
          "base_uri": "https://localhost:8080/",
          "height": 302
        },
        "id": "wwidXxzzwaw0",
        "outputId": "52b8c20f-62fd-4849-d2cb-e23ed3717d14"
      },
      "outputs": [
        {
          "output_type": "display_data",
          "data": {
            "text/plain": [
              "<Figure size 504x288 with 1 Axes>"
            ],
            "image/png": "[encoded data removed]"
          },
          "metadata": {
            "needs_background": "light"
          }
        }
      ],
      "source": [
        "# Value counts of 10-year risk of coronary heart disease CHD:\n",
        "\n",
        "plt.figure(figsize=(7,4))\n",
        "ch = sns.countplot(data['TenYearCHD'])\n",
        "plt.xlabel('TenYearCHD', size=16)\n",
        "plt.ylabel('Counts', size=16)\n",
        "plt.title('value counts of 10-year risk of coronary heart disease CHD', size=16)\n",
        "for p in ch.patches:\n",
        "    ch.annotate(f'\\n{p.get_height()}', (p.get_x()+0.2, p.get_height()), ha='center', va='top', size=16)\n",
        "plt.show()"
      ]
    },
    {
      "cell_type": "code",
      "execution_count": 280,
      "metadata": {
        "colab": {
          "base_uri": "https://localhost:8080/",
          "height": 356
        },
        "id": "KwkFPoiJw5c8",
        "outputId": "770c5b65-c369-430c-c713-994517f87cd1"
      },
      "outputs": [
        {
          "output_type": "display_data",
          "data": {
            "text/plain": [
              "<Figure size 864x360 with 1 Axes>"
            ],
            "image/png": "[encoded data removed]"
          },
          "metadata": {
            "needs_background": "light"
          }
        }
      ],
      "source": [
        "#Plotting of Promo days vs open and close of stores:\n",
        "\n",
        "plt.figure(figsize=(12,5))\n",
        "ax = sns.countplot(x='TenYearCHD', hue='sex', data=data)\n",
        "plt.title('TenYearCHD Vs sex', size=16)\n",
        "plt.xlabel('sex', size=14)\n",
        "plt.ylabel('Count', size=14)\n",
        "for p in ax.patches:\n",
        "    ax.annotate(f'\\n{p.get_height()}',  (p.get_x()+0.2, p.get_height()), ha='center', va='top', size=16)\n",
        "\n",
        "plt.show()"
      ]
    },
    {
      "cell_type": "code",
      "execution_count": 281,
      "metadata": {
        "colab": {
          "base_uri": "https://localhost:8080/",
          "height": 356
        },
        "id": "6ekdTxlKxdOW",
        "outputId": "84804b00-0914-41e4-a04a-9dd2a043e6ac"
      },
      "outputs": [
        {
          "output_type": "display_data",
          "data": {
            "text/plain": [
              "<Figure size 864x360 with 1 Axes>"
            ],
            "image/png": "[encoded data removed]"
          },
          "metadata": {
            "needs_background": "light"
          }
        }
      ],
      "source": [
        "#Plotting of Promo days vs open and close of stores:\n",
        "\n",
        "plt.figure(figsize=(12,5))\n",
        "ax = sns.countplot(x='TenYearCHD', hue='is_smoking', data=data)\n",
        "plt.title('TenYearCHD Vs Number of persons smoking', size=16)\n",
        "plt.xlabel('Person smoking', size=14)\n",
        "plt.ylabel('Count', size=14)\n",
        "for p in ax.patches:\n",
        "    ax.annotate(f'\\n{p.get_height()}',  (p.get_x()+0.2, p.get_height()), ha='center', va='top', size=16)\n",
        "\n",
        "plt.show()"
      ]
    },
    {
      "cell_type": "code",
      "execution_count": 282,
      "metadata": {
        "colab": {
          "base_uri": "https://localhost:8080/",
          "height": 356
        },
        "id": "oTdbubgkxpne",
        "outputId": "20f615fe-7ec7-4c19-bb83-d0b4c07b048a"
      },
      "outputs": [
        {
          "output_type": "display_data",
          "data": {
            "text/plain": [
              "<Figure size 864x360 with 1 Axes>"
            ],
            "image/png": "[encoded data removed]"
          },
          "metadata": {
            "needs_background": "light"
          }
        }
      ],
      "source": [
        "#Plotting of Promo days vs open and close of stores:\n",
        "\n",
        "plt.figure(figsize=(12,5))\n",
        "ax = sns.countplot(x='TenYearCHD', hue='prevalentHyp', data=data)\n",
        "plt.title('TenYearCHD Vs prevalentHyp', size=16)\n",
        "plt.xlabel('number of person with prevalentHyp', size=14)\n",
        "plt.ylabel('Count', size=14)\n",
        "for p in ax.patches:\n",
        "    ax.annotate(f'\\n{p.get_height()}',  (p.get_x()+0.2, p.get_height()), ha='center', va='top', size=16)\n",
        "\n",
        "plt.show()"
      ]
    },
    {
      "cell_type": "markdown",
      "metadata": {
        "id": "rG3eALDWxzoL"
      },
      "source": [
        "### **Value counts of male and female:**\n",
        "\n"
      ]
    },
    {
      "cell_type": "code",
      "execution_count": 283,
      "metadata": {
        "colab": {
          "base_uri": "https://localhost:8080/",
          "height": 319
        },
        "id": "E6Quzzyjxtbs",
        "outputId": "01c15428-f6ad-4bc5-8623-bb8390e28a31"
      },
      "outputs": [
        {
          "output_type": "execute_result",
          "data": {
            "text/plain": [
              "<function matplotlib.pyplot.show(*args, **kw)>"
            ]
          },
          "metadata": {},
          "execution_count": 283
        },
        {
          "output_type": "display_data",
          "data": {
            "text/plain": [
              "<Figure size 504x288 with 1 Axes>"
            ],
            "image/png": "[encoded data removed]"
          },
          "metadata": {
            "needs_background": "light"
          }
        }
      ],
      "source": [
        "#Value counts of male and female:\n",
        "\n",
        "plt.figure(figsize=(7,4))\n",
        "ch = sns.countplot(data['sex'])\n",
        "plt.xlabel('sex', size=16)\n",
        "plt.ylabel('Counts', size=16)\n",
        "plt.title('Value counts of Male and Female', size=16)\n",
        "for p in ch.patches:\n",
        "    ch.annotate(f'\\n{p.get_height()}', (p.get_x()+0.2, p.get_height()), ha='center', va='top', size=16)\n",
        "plt.show"
      ]
    },
    {
      "cell_type": "markdown",
      "metadata": {
        "id": "mdxdPFdpyVPi"
      },
      "source": [
        "### **Value counts of person smoking:**\n",
        "\n",
        "\n",
        "\n",
        "\n"
      ]
    },
    {
      "cell_type": "code",
      "execution_count": 284,
      "metadata": {
        "colab": {
          "base_uri": "https://localhost:8080/",
          "height": 302
        },
        "id": "Rv6ufyPNyYfi",
        "outputId": "7703d971-1a64-4cdd-9a58-2f05b9720a13"
      },
      "outputs": [
        {
          "output_type": "display_data",
          "data": {
            "text/plain": [
              "<Figure size 504x288 with 1 Axes>"
            ],
            "image/png": "[encoded data removed]"
          },
          "metadata": {
            "needs_background": "light"
          }
        }
      ],
      "source": [
        "#Value counts of person smoking:\n",
        "\n",
        "plt.figure(figsize=(7,4))\n",
        "ch = sns.countplot(data['is_smoking'])\n",
        "plt.xlabel('Person Smoking', size=16)\n",
        "plt.ylabel('Counts', size=16)\n",
        "plt.title('value counts of person smoking', size=16)\n",
        "for p in ch.patches:\n",
        "    ch.annotate(f'\\n{p.get_height()}', (p.get_x()+0.2, p.get_height()), ha='center', va='top', size=16)\n",
        "plt.show()"
      ]
    },
    {
      "cell_type": "markdown",
      "metadata": {
        "id": "HdvFSulcysEe"
      },
      "source": [
        "### **Value counts of patient was on blood pressure medication:**\n",
        "\n"
      ]
    },
    {
      "cell_type": "code",
      "execution_count": 285,
      "metadata": {
        "colab": {
          "base_uri": "https://localhost:8080/"
        },
        "id": "MbwvVNZAyjnL",
        "outputId": "c9a42e34-5aad-4b38-df0c-7bb6657a4e1c"
      },
      "outputs": [
        {
          "output_type": "execute_result",
          "data": {
            "text/plain": [
              "0.0    2839\n",
              "1.0      88\n",
              "Name: BPMeds, dtype: int64"
            ]
          },
          "metadata": {},
          "execution_count": 285
        }
      ],
      "source": [
        "#Value counts of patient was on blood pressure medication:\n",
        "\n",
        "BPMeds = data['BPMeds'].dropna(0).value_counts()\n",
        "BPMeds"
      ]
    },
    {
      "cell_type": "code",
      "execution_count": 286,
      "metadata": {
        "colab": {
          "base_uri": "https://localhost:8080/",
          "height": 370
        },
        "id": "eMy1E2oly4IB",
        "outputId": "d61a4f82-ab8c-4f1f-918c-078a6902f7d9"
      },
      "outputs": [
        {
          "output_type": "execute_result",
          "data": {
            "text/plain": [
              "([<matplotlib.patches.Wedge at 0x7f0b4463a650>,\n",
              "  <matplotlib.patches.Wedge at 0x7f0b4463aed0>],\n",
              " [Text(-0.6373922057404507, -0.8965105554656471, '0.0'),\n",
              "  Text(0.6953370375618967, 0.9780114540201692, '1.0')],\n",
              " [Text(-0.34766847585842764, -0.48900575752671654, '97.0%'),\n",
              "  Text(0.4056132719111064, 0.5705066815117654, '3.0%')])"
            ]
          },
          "metadata": {},
          "execution_count": 286
        },
        {
          "output_type": "display_data",
          "data": {
            "text/plain": [
              "<Figure size 288x288 with 1 Axes>"
            ],
            "image/png": "[encoded data removed]"
          },
          "metadata": {}
        }
      ],
      "source": [
        "plt.rcParams['figure.figsize'] = 4,4\n",
        "labels = data['BPMeds'].value_counts().index.tolist()\n",
        "sizes = data['BPMeds'].value_counts().tolist()\n",
        "plt.title('People on BPMeds', size=16)\n",
        "colors = ['lightskyblue','yellow']\n",
        "explode = (0, 0.1)\n",
        "plt.pie(sizes, labels=labels,explode = (0, 0.1), colors=colors,autopct='%1.1f%%' ,startangle=60,textprops={'fontsize': 14})"
      ]
    },
    {
      "cell_type": "markdown",
      "metadata": {
        "id": "CFxByB61zCcq"
      },
      "source": [
        "### **Value counts of patient previously had a stroke:**\n",
        "\n"
      ]
    },
    {
      "cell_type": "code",
      "execution_count": 287,
      "metadata": {
        "colab": {
          "base_uri": "https://localhost:8080/"
        },
        "id": "liBam-WQzAwM",
        "outputId": "de5d6d8e-d885-46a7-d520-b474fcc1274b"
      },
      "outputs": [
        {
          "output_type": "execute_result",
          "data": {
            "text/plain": [
              "0    2909\n",
              "1      18\n",
              "Name: prevalentStroke, dtype: int64"
            ]
          },
          "metadata": {},
          "execution_count": 287
        }
      ],
      "source": [
        "#Value counts of patient previously had a stroke:\n",
        "prevalentStroke = data['prevalentStroke'].value_counts()\n",
        "prevalentStroke"
      ]
    },
    {
      "cell_type": "code",
      "execution_count": 288,
      "metadata": {
        "colab": {
          "base_uri": "https://localhost:8080/",
          "height": 370
        },
        "id": "YG7Srt57zNCA",
        "outputId": "5d9d873d-a15f-4509-c7c9-482709107fee"
      },
      "outputs": [
        {
          "output_type": "execute_result",
          "data": {
            "text/plain": [
              "([<matplotlib.patches.Wedge at 0x7f0b443c5d90>,\n",
              "  <matplotlib.patches.Wedge at 0x7f0b443af5d0>],\n",
              " [Text(-0.5683006948333067, -0.9418249944931282, '0'),\n",
              "  Text(0.6199644214188407, 1.0274454322127293, '1')],\n",
              " [Text(-0.3099821971818036, -0.5137227242689789, '99.4%'),\n",
              "  Text(0.36164591249432365, 0.5993431687907588, '0.6%')])"
            ]
          },
          "metadata": {},
          "execution_count": 288
        },
        {
          "output_type": "display_data",
          "data": {
            "text/plain": [
              "<Figure size 288x288 with 1 Axes>"
            ],
            "image/png": "[encoded data removed]"
          },
          "metadata": {}
        }
      ],
      "source": [
        "plt.rcParams['figure.figsize'] = 4,4\n",
        "labels = data['prevalentStroke'].value_counts().index.tolist()\n",
        "sizes = data['prevalentStroke'].value_counts().tolist()\n",
        "plt.title('previously had a stroke', size=16)\n",
        "colors = ['lightskyblue','yellow']\n",
        "explode = (0, 0.1)\n",
        "plt.pie(sizes, labels=labels,explode = (0, 0.1), colors=colors,autopct='%1.1f%%' ,startangle=60,textprops={'fontsize': 14})"
      ]
    },
    {
      "cell_type": "markdown",
      "metadata": {
        "id": "6vLTRyUV3D7Z"
      },
      "source": [
        "### **Value counts of patient was hypertensive:**\n",
        "\n"
      ]
    },
    {
      "cell_type": "code",
      "execution_count": 289,
      "metadata": {
        "colab": {
          "base_uri": "https://localhost:8080/",
          "height": 302
        },
        "id": "I_O_tn0K3CT2",
        "outputId": "c27c8b2b-2a58-4e83-d4ff-b3c2f5f69b2e"
      },
      "outputs": [
        {
          "output_type": "display_data",
          "data": {
            "text/plain": [
              "<Figure size 504x288 with 1 Axes>"
            ],
            "image/png": "[encoded data removed]"
          },
          "metadata": {
            "needs_background": "light"
          }
        }
      ],
      "source": [
        "# Value counts of patient was hypertensive:\n",
        "plt.figure(figsize=(7,4))\n",
        "ch = sns.countplot(data['prevalentHyp'])\n",
        "plt.xlabel('prevalentHyp', size=16)\n",
        "plt.ylabel('Counts', size=16)\n",
        "plt.title('value counts of patient was hypertensive', size=16)\n",
        "for p in ch.patches:\n",
        "    ch.annotate(f'\\n{p.get_height()}', (p.get_x()+0.2, p.get_height()), ha='center', va='top', size=16)\n",
        "plt.show()"
      ]
    },
    {
      "cell_type": "markdown",
      "metadata": {
        "id": "TceMafLD3NmR"
      },
      "source": [
        "### **Value counts of patient had diabetes:**\n",
        "\n"
      ]
    },
    {
      "cell_type": "code",
      "execution_count": 290,
      "metadata": {
        "colab": {
          "base_uri": "https://localhost:8080/"
        },
        "id": "tjhaPT9r3L6A",
        "outputId": "c08d0da8-7739-4642-93ef-24cfc8aa84cb"
      },
      "outputs": [
        {
          "output_type": "execute_result",
          "data": {
            "text/plain": [
              "0    2848\n",
              "1      79\n",
              "Name: diabetes, dtype: int64"
            ]
          },
          "metadata": {},
          "execution_count": 290
        }
      ],
      "source": [
        "#Value counts of patient had diabetes:\n",
        "diabetes = data['diabetes'].value_counts()\n",
        "diabetes"
      ]
    },
    {
      "cell_type": "code",
      "execution_count": 291,
      "metadata": {
        "colab": {
          "base_uri": "https://localhost:8080/",
          "height": 370
        },
        "id": "TPZmS-3r3S7a",
        "outputId": "37eb0c53-3774-4fb1-95c2-bf22ed27c184"
      },
      "outputs": [
        {
          "output_type": "execute_result",
          "data": {
            "text/plain": [
              "([<matplotlib.patches.Wedge at 0x7f0b4553d450>,\n",
              "  <matplotlib.patches.Wedge at 0x7f0b4553dc50>],\n",
              " [Text(-0.6287024474481075, -0.9026257433580984, '0'),\n",
              "  Text(0.6858572903044546, 0.9846825769435708, '1')],\n",
              " [Text(-0.3429286076989677, -0.49234131455896274, '97.3%'),\n",
              "  Text(0.40008341934426517, 0.5743981698837496, '2.7%')])"
            ]
          },
          "metadata": {},
          "execution_count": 291
        },
        {
          "output_type": "display_data",
          "data": {
            "text/plain": [
              "<Figure size 288x288 with 1 Axes>"
            ],
            "image/png": "[encoded data removed]"
          },
          "metadata": {}
        }
      ],
      "source": [
        "  plt.rcParams['figure.figsize'] = 4,4\n",
        "labels = data['diabetes'].value_counts().index.tolist()\n",
        "sizes = data['diabetes'].value_counts().tolist()\n",
        "plt.title('Patients had diabetes', size=16)\n",
        "colors = ['lightskyblue','yellow']\n",
        "explode = (0, 0.1)\n",
        "plt.pie(sizes, labels=labels,explode = (0, 0.1), colors=colors,autopct='%1.1f%%' ,startangle=60,textprops={'fontsize': 14})"
      ]
    },
    {
      "cell_type": "markdown",
      "metadata": {
        "id": "IUwA4xL23X6w"
      },
      "source": [
        "### **#Value Count of Age:**\n",
        "\n"
      ]
    },
    {
      "cell_type": "code",
      "execution_count": 292,
      "metadata": {
        "colab": {
          "base_uri": "https://localhost:8080/",
          "height": 464
        },
        "id": "glIN3v6X3VEe",
        "outputId": "ef2ad02e-5b51-4566-b201-657c9f79d900"
      },
      "outputs": [
        {
          "output_type": "display_data",
          "data": {
            "text/plain": [
              "<Figure size 1296x504 with 1 Axes>"
            ],
            "image/png": "[encoded data removed]"
          },
          "metadata": {
            "needs_background": "light"
          }
        }
      ],
      "source": [
        "#Value counts of age feature:\n",
        "plt.figure(figsize=(18,7))\n",
        "sns.countplot(data=data, x='age')\n",
        "plt.title('Value Count of Age', size=16)\n",
        "plt.xlabel('Age', size=14)\n",
        "plt.ylabel('Count', size=14)\n",
        "plt.show()"
      ]
    },
    {
      "cell_type": "markdown",
      "metadata": {
        "id": "sTgEw2Q_3hNq"
      },
      "source": [
        "### **#Age Vs Person Smoking:**\n",
        "\n"
      ]
    },
    {
      "cell_type": "code",
      "execution_count": 293,
      "metadata": {
        "colab": {
          "base_uri": "https://localhost:8080/",
          "height": 464
        },
        "id": "PGm47cmx3dC0",
        "outputId": "af658427-a5d0-40ac-c963-b5086dd42549"
      },
      "outputs": [
        {
          "output_type": "display_data",
          "data": {
            "text/plain": [
              "<Figure size 864x504 with 1 Axes>"
            ],
            "image/png": "[encoded data removed]"
          },
          "metadata": {
            "needs_background": "light"
          }
        }
      ],
      "source": [
        "\n",
        "\n",
        "#visualization of person smoking on the basis of age\n",
        "\n",
        "plt.figure(figsize=(12,7))\n",
        "sns.countplot(data=data, x='age', hue='is_smoking')\n",
        "plt.title('Age vs Person Smoking', size=16)\n",
        "plt.xlabel('Age', size=14)\n",
        "plt.ylabel('Count', size=14)\n",
        "plt.show()"
      ]
    },
    {
      "cell_type": "markdown",
      "metadata": {
        "id": "P3pA3-Oi34Oi"
      },
      "source": [
        "### **#Male and Female Vs Person Smoking:**\n",
        "\n"
      ]
    },
    {
      "cell_type": "code",
      "execution_count": 195,
      "metadata": {
        "colab": {
          "base_uri": "https://localhost:8080/",
          "height": 356
        },
        "id": "8UwIAFOO3nEY",
        "outputId": "07795f50-d339-49c2-b30b-6ed0c311d01d"
      },
      "outputs": [
        {
          "output_type": "display_data",
          "data": {
            "text/plain": [
              "<Figure size 864x360 with 1 Axes>"
            ],
            "image/png": "[encoded data removed]"
          },
          "metadata": {
            "needs_background": "light"
          }
        }
      ],
      "source": [
        "#Visualization of person smoking on the basis of sex:\n",
        "\n",
        "plt.figure(figsize=(12,5))\n",
        "ax = sns.countplot(data=data,x='sex',  hue='is_smoking')\n",
        "plt.title('Male and Female Vs Person Smoking', size=16)\n",
        "plt.xlabel('Sex', size=14)\n",
        "plt.ylabel('Count', size=14)\n",
        "for p in ax.patches:\n",
        "    ax.annotate(f'\\n{p.get_height()}', (p.get_x()+0.2, p.get_height()), va='top', ha='center', size=16)\n",
        "plt.show()"
      ]
    },
    {
      "cell_type": "markdown",
      "metadata": {
        "id": "jmbk6gwh4C8x"
      },
      "source": [
        "## **#Data Preparation:**\n"
      ]
    },
    {
      "cell_type": "markdown",
      "metadata": {
        "id": "eNYwz8zE4WqA"
      },
      "source": [
        "**Checking Correlation:**\n",
        "\n"
      ]
    },
    {
      "cell_type": "code",
      "execution_count": 196,
      "metadata": {
        "colab": {
          "base_uri": "https://localhost:8080/",
          "height": 564
        },
        "id": "_FMQmFOm3_8U",
        "outputId": "1f9a0903-9c92-43a0-e583-f46b96269a72"
      },
      "outputs": [
        {
          "output_type": "execute_result",
          "data": {
            "text/plain": [
              "                       id       age  education  cigsPerDay    BPMeds  \\\n",
              "id               1.000000  0.024679  -0.029438   -0.031746  0.014426   \n",
              "age              0.024679  1.000000  -0.161238   -0.184110  0.138570   \n",
              "education       -0.029438 -0.161238   1.000000    0.015506 -0.023534   \n",
              "cigsPerDay      -0.031746 -0.184110   0.015506    1.000000 -0.036866   \n",
              "BPMeds           0.014426  0.138570  -0.023534   -0.036866  1.000000   \n",
              "prevalentStroke -0.034277  0.049756  -0.027410   -0.047461  0.114107   \n",
              "prevalentHyp     0.022882  0.313543  -0.082675   -0.080570  0.260039   \n",
              "diabetes         0.004331  0.111085  -0.054464   -0.048959  0.069443   \n",
              "totChol         -0.015428  0.281156  -0.011575   -0.026606  0.098210   \n",
              "sysBP            0.030634  0.405238  -0.130417   -0.105104  0.280788   \n",
              "diaBP            0.004233  0.231322  -0.056034   -0.067483  0.206209   \n",
              "BMI              0.033410  0.141001  -0.131304   -0.095310  0.088962   \n",
              "heartRate        0.027590  0.013947  -0.061501    0.055770  0.014681   \n",
              "glucose          0.011366  0.108882  -0.034099   -0.064029  0.069125   \n",
              "TenYearCHD       0.010901  0.234423  -0.062442    0.059797  0.092868   \n",
              "\n",
              "                 prevalentStroke  prevalentHyp  diabetes   totChol     sysBP  \\\n",
              "id                     -0.034277      0.022882  0.004331 -0.015428  0.030634   \n",
              "age                     0.049756      0.313543  0.111085  0.281156  0.405238   \n",
              "education              -0.027410     -0.082675 -0.054464 -0.011575 -0.130417   \n",
              "cigsPerDay             -0.047461     -0.080570 -0.048959 -0.026606 -0.105104   \n",
              "BPMeds                  0.114107      0.260039  0.069443  0.098210  0.280788   \n",
              "prevalentStroke         1.000000      0.059703  0.013866  0.002418  0.061712   \n",
              "prevalentHyp            0.059703      1.000000  0.082510  0.162100  0.699240   \n",
              "diabetes                0.013866      0.082510  1.000000  0.069232  0.108990   \n",
              "totChol                 0.002418      0.162100  0.069232  1.000000  0.210685   \n",
              "sysBP                   0.061712      0.699240  0.108990  0.210685  1.000000   \n",
              "diaBP                   0.059594      0.612037  0.058115  0.165101  0.783586   \n",
              "BMI                     0.029168      0.304790  0.090249  0.113206  0.340782   \n",
              "heartRate              -0.018617      0.154375  0.046822  0.091487  0.180690   \n",
              "glucose                 0.021427      0.086143  0.617189  0.066703  0.134609   \n",
              "TenYearCHD              0.052014      0.169136  0.100006  0.106473  0.217419   \n",
              "\n",
              "                    diaBP       BMI  heartRate   glucose  TenYearCHD  \n",
              "id               0.004233  0.033410   0.027590  0.011366    0.010901  \n",
              "age              0.231322  0.141001   0.013947  0.108882    0.234423  \n",
              "education       -0.056034 -0.131304  -0.061501 -0.034099   -0.062442  \n",
              "cigsPerDay      -0.067483 -0.095310   0.055770 -0.064029    0.059797  \n",
              "BPMeds           0.206209  0.088962   0.014681  0.069125    0.092868  \n",
              "prevalentStroke  0.059594  0.029168  -0.018617  0.021427    0.052014  \n",
              "prevalentHyp     0.612037  0.304790   0.154375  0.086143    0.169136  \n",
              "diabetes         0.058115  0.090249   0.046822  0.617189    0.100006  \n",
              "totChol          0.165101  0.113206   0.091487  0.066703    0.106473  \n",
              "sysBP            0.783586  0.340782   0.180690  0.134609    0.217419  \n",
              "diaBP            1.000000  0.391291   0.173350  0.074630    0.139005  \n",
              "BMI              0.391291  1.000000   0.076848  0.091094    0.075950  \n",
              "heartRate        0.173350  0.076848   1.000000  0.089920    0.018747  \n",
              "glucose          0.074630  0.091094   0.089920  1.000000    0.133286  \n",
              "TenYearCHD       0.139005  0.075950   0.018747  0.133286    1.000000  "
            ],
            "text/html": [
              "\n",
              "  <div id=\"df-979fa0d6-164f-43ea-89c6-55b63078eeaf\">\n",
              "    <div class=\"colab-df-container\">\n",
              "      <div>\n",
              "<style scoped>\n",
              "    .dataframe tbody tr th:only-of-type {\n",
              "        vertical-align: middle;\n",
              "    }\n",
              "\n",
              "    .dataframe tbody tr th {\n",
              "        vertical-align: top;\n",
              "    }\n",
              "\n",
              "    .dataframe thead th {\n",
              "        text-align: right;\n",
              "    }\n",
              "</style>\n",
              "<table border=\"1\" class=\"dataframe\">\n",
              "  <thead>\n",
              "    <tr style=\"text-align: right;\">\n",
              "      <th></th>\n",
              "      <th>id</th>\n",
              "      <th>age</th>\n",
              "      <th>education</th>\n",
              "      <th>cigsPerDay</th>\n",
              "      <th>BPMeds</th>\n",
              "      <th>prevalentStroke</th>\n",
              "      <th>prevalentHyp</th>\n",
              "      <th>diabetes</th>\n",
              "      <th>totChol</th>\n",
              "      <th>sysBP</th>\n",
              "      <th>diaBP</th>\n",
              "      <th>BMI</th>\n",
              "      <th>heartRate</th>\n",
              "      <th>glucose</th>\n",
              "      <th>TenYearCHD</th>\n",
              "    </tr>\n",
              "  </thead>\n",
              "  <tbody>\n",
              "    <tr>\n",
              "      <th>id</th>\n",
              "      <td>1.000000</td>\n",
              "      <td>0.024679</td>\n",
              "      <td>-0.029438</td>\n",
              "      <td>-0.031746</td>\n",
              "      <td>0.014426</td>\n",
              "      <td>-0.034277</td>\n",
              "      <td>0.022882</td>\n",
              "      <td>0.004331</td>\n",
              "      <td>-0.015428</td>\n",
              "      <td>0.030634</td>\n",
              "      <td>0.004233</td>\n",
              "      <td>0.033410</td>\n",
              "      <td>0.027590</td>\n",
              "      <td>0.011366</td>\n",
              "      <td>0.010901</td>\n",
              "    </tr>\n",
              "    <tr>\n",
              "      <th>age</th>\n",
              "      <td>0.024679</td>\n",
              "      <td>1.000000</td>\n",
              "      <td>-0.161238</td>\n",
              "      <td>-0.184110</td>\n",
              "      <td>0.138570</td>\n",
              "      <td>0.049756</td>\n",
              "      <td>0.313543</td>\n",
              "      <td>0.111085</td>\n",
              "      <td>0.281156</td>\n",
              "      <td>0.405238</td>\n",
              "      <td>0.231322</td>\n",
              "      <td>0.141001</td>\n",
              "      <td>0.013947</td>\n",
              "      <td>0.108882</td>\n",
              "      <td>0.234423</td>\n",
              "    </tr>\n",
              "    <tr>\n",
              "      <th>education</th>\n",
              "      <td>-0.029438</td>\n",
              "      <td>-0.161238</td>\n",
              "      <td>1.000000</td>\n",
              "      <td>0.015506</td>\n",
              "      <td>-0.023534</td>\n",
              "      <td>-0.027410</td>\n",
              "      <td>-0.082675</td>\n",
              "      <td>-0.054464</td>\n",
              "      <td>-0.011575</td>\n",
              "      <td>-0.130417</td>\n",
              "      <td>-0.056034</td>\n",
              "      <td>-0.131304</td>\n",
              "      <td>-0.061501</td>\n",
              "      <td>-0.034099</td>\n",
              "      <td>-0.062442</td>\n",
              "    </tr>\n",
              "    <tr>\n",
              "      <th>cigsPerDay</th>\n",
              "      <td>-0.031746</td>\n",
              "      <td>-0.184110</td>\n",
              "      <td>0.015506</td>\n",
              "      <td>1.000000</td>\n",
              "      <td>-0.036866</td>\n",
              "      <td>-0.047461</td>\n",
              "      <td>-0.080570</td>\n",
              "      <td>-0.048959</td>\n",
              "      <td>-0.026606</td>\n",
              "      <td>-0.105104</td>\n",
              "      <td>-0.067483</td>\n",
              "      <td>-0.095310</td>\n",
              "      <td>0.055770</td>\n",
              "      <td>-0.064029</td>\n",
              "      <td>0.059797</td>\n",
              "    </tr>\n",
              "    <tr>\n",
              "      <th>BPMeds</th>\n",
              "      <td>0.014426</td>\n",
              "      <td>0.138570</td>\n",
              "      <td>-0.023534</td>\n",
              "      <td>-0.036866</td>\n",
              "      <td>1.000000</td>\n",
              "      <td>0.114107</td>\n",
              "      <td>0.260039</td>\n",
              "      <td>0.069443</td>\n",
              "      <td>0.098210</td>\n",
              "      <td>0.280788</td>\n",
              "      <td>0.206209</td>\n",
              "      <td>0.088962</td>\n",
              "      <td>0.014681</td>\n",
              "      <td>0.069125</td>\n",
              "      <td>0.092868</td>\n",
              "    </tr>\n",
              "    <tr>\n",
              "      <th>prevalentStroke</th>\n",
              "      <td>-0.034277</td>\n",
              "      <td>0.049756</td>\n",
              "      <td>-0.027410</td>\n",
              "      <td>-0.047461</td>\n",
              "      <td>0.114107</td>\n",
              "      <td>1.000000</td>\n",
              "      <td>0.059703</td>\n",
              "      <td>0.013866</td>\n",
              "      <td>0.002418</td>\n",
              "      <td>0.061712</td>\n",
              "      <td>0.059594</td>\n",
              "      <td>0.029168</td>\n",
              "      <td>-0.018617</td>\n",
              "      <td>0.021427</td>\n",
              "      <td>0.052014</td>\n",
              "    </tr>\n",
              "    <tr>\n",
              "      <th>prevalentHyp</th>\n",
              "      <td>0.022882</td>\n",
              "      <td>0.313543</td>\n",
              "      <td>-0.082675</td>\n",
              "      <td>-0.080570</td>\n",
              "      <td>0.260039</td>\n",
              "      <td>0.059703</td>\n",
              "      <td>1.000000</td>\n",
              "      <td>0.082510</td>\n",
              "      <td>0.162100</td>\n",
              "      <td>0.699240</td>\n",
              "      <td>0.612037</td>\n",
              "      <td>0.304790</td>\n",
              "      <td>0.154375</td>\n",
              "      <td>0.086143</td>\n",
              "      <td>0.169136</td>\n",
              "    </tr>\n",
              "    <tr>\n",
              "      <th>diabetes</th>\n",
              "      <td>0.004331</td>\n",
              "      <td>0.111085</td>\n",
              "      <td>-0.054464</td>\n",
              "      <td>-0.048959</td>\n",
              "      <td>0.069443</td>\n",
              "      <td>0.013866</td>\n",
              "      <td>0.082510</td>\n",
              "      <td>1.000000</td>\n",
              "      <td>0.069232</td>\n",
              "      <td>0.108990</td>\n",
              "      <td>0.058115</td>\n",
              "      <td>0.090249</td>\n",
              "      <td>0.046822</td>\n",
              "      <td>0.617189</td>\n",
              "      <td>0.100006</td>\n",
              "    </tr>\n",
              "    <tr>\n",
              "      <th>totChol</th>\n",
              "      <td>-0.015428</td>\n",
              "      <td>0.281156</td>\n",
              "      <td>-0.011575</td>\n",
              "      <td>-0.026606</td>\n",
              "      <td>0.098210</td>\n",
              "      <td>0.002418</td>\n",
              "      <td>0.162100</td>\n",
              "      <td>0.069232</td>\n",
              "      <td>1.000000</td>\n",
              "      <td>0.210685</td>\n",
              "      <td>0.165101</td>\n",
              "      <td>0.113206</td>\n",
              "      <td>0.091487</td>\n",
              "      <td>0.066703</td>\n",
              "      <td>0.106473</td>\n",
              "    </tr>\n",
              "    <tr>\n",
              "      <th>sysBP</th>\n",
              "      <td>0.030634</td>\n",
              "      <td>0.405238</td>\n",
              "      <td>-0.130417</td>\n",
              "      <td>-0.105104</td>\n",
              "      <td>0.280788</td>\n",
              "      <td>0.061712</td>\n",
              "      <td>0.699240</td>\n",
              "      <td>0.108990</td>\n",
              "      <td>0.210685</td>\n",
              "      <td>1.000000</td>\n",
              "      <td>0.783586</td>\n",
              "      <td>0.340782</td>\n",
              "      <td>0.180690</td>\n",
              "      <td>0.134609</td>\n",
              "      <td>0.217419</td>\n",
              "    </tr>\n",
              "    <tr>\n",
              "      <th>diaBP</th>\n",
              "      <td>0.004233</td>\n",
              "      <td>0.231322</td>\n",
              "      <td>-0.056034</td>\n",
              "      <td>-0.067483</td>\n",
              "      <td>0.206209</td>\n",
              "      <td>0.059594</td>\n",
              "      <td>0.612037</td>\n",
              "      <td>0.058115</td>\n",
              "      <td>0.165101</td>\n",
              "      <td>0.783586</td>\n",
              "      <td>1.000000</td>\n",
              "      <td>0.391291</td>\n",
              "      <td>0.173350</td>\n",
              "      <td>0.074630</td>\n",
              "      <td>0.139005</td>\n",
              "    </tr>\n",
              "    <tr>\n",
              "      <th>BMI</th>\n",
              "      <td>0.033410</td>\n",
              "      <td>0.141001</td>\n",
              "      <td>-0.131304</td>\n",
              "      <td>-0.095310</td>\n",
              "      <td>0.088962</td>\n",
              "      <td>0.029168</td>\n",
              "      <td>0.304790</td>\n",
              "      <td>0.090249</td>\n",
              "      <td>0.113206</td>\n",
              "      <td>0.340782</td>\n",
              "      <td>0.391291</td>\n",
              "      <td>1.000000</td>\n",
              "      <td>0.076848</td>\n",
              "      <td>0.091094</td>\n",
              "      <td>0.075950</td>\n",
              "    </tr>\n",
              "    <tr>\n",
              "      <th>heartRate</th>\n",
              "      <td>0.027590</td>\n",
              "      <td>0.013947</td>\n",
              "      <td>-0.061501</td>\n",
              "      <td>0.055770</td>\n",
              "      <td>0.014681</td>\n",
              "      <td>-0.018617</td>\n",
              "      <td>0.154375</td>\n",
              "      <td>0.046822</td>\n",
              "      <td>0.091487</td>\n",
              "      <td>0.180690</td>\n",
              "      <td>0.173350</td>\n",
              "      <td>0.076848</td>\n",
              "      <td>1.000000</td>\n",
              "      <td>0.089920</td>\n",
              "      <td>0.018747</td>\n",
              "    </tr>\n",
              "    <tr>\n",
              "      <th>glucose</th>\n",
              "      <td>0.011366</td>\n",
              "      <td>0.108882</td>\n",
              "      <td>-0.034099</td>\n",
              "      <td>-0.064029</td>\n",
              "      <td>0.069125</td>\n",
              "      <td>0.021427</td>\n",
              "      <td>0.086143</td>\n",
              "      <td>0.617189</td>\n",
              "      <td>0.066703</td>\n",
              "      <td>0.134609</td>\n",
              "      <td>0.074630</td>\n",
              "      <td>0.091094</td>\n",
              "      <td>0.089920</td>\n",
              "      <td>1.000000</td>\n",
              "      <td>0.133286</td>\n",
              "    </tr>\n",
              "    <tr>\n",
              "      <th>TenYearCHD</th>\n",
              "      <td>0.010901</td>\n",
              "      <td>0.234423</td>\n",
              "      <td>-0.062442</td>\n",
              "      <td>0.059797</td>\n",
              "      <td>0.092868</td>\n",
              "      <td>0.052014</td>\n",
              "      <td>0.169136</td>\n",
              "      <td>0.100006</td>\n",
              "      <td>0.106473</td>\n",
              "      <td>0.217419</td>\n",
              "      <td>0.139005</td>\n",
              "      <td>0.075950</td>\n",
              "      <td>0.018747</td>\n",
              "      <td>0.133286</td>\n",
              "      <td>1.000000</td>\n",
              "    </tr>\n",
              "  </tbody>\n",
              "</table>\n",
              "</div>\n",
              "      <button class=\"colab-df-convert\" onclick=\"convertToInteractive('df-979fa0d6-164f-43ea-89c6-55b63078eeaf')\"\n",
              "              title=\"Convert this dataframe to an interactive table.\"\n",
              "              style=\"display:none;\">\n",
              "        \n",
              "  <svg xmlns=\"http://www.w3.org/2000/svg\" height=\"24px\"viewBox=\"0 0 24 24\"\n",
              "       width=\"24px\">\n",
              "    <path d=\"M0 0h24v24H0V0z\" fill=\"none\"/>\n",
              "    <path d=\"M18.56 5.44l.94 2.06.94-2.06 2.06-.94-2.06-.94-.94-2.06-.94 2.06-2.06.94zm-11 1L8.5 8.5l.94-2.06 2.06-.94-2.06-.94L8.5 2.5l-.94 2.06-2.06.94zm10 10l.94 2.06.94-2.06 2.06-.94-2.06-.94-.94-2.06-.94 2.06-2.06.94z\"/><path d=\"M17.41 7.96l-1.37-1.37c-.4-.4-.92-.59-1.43-.59-.52 0-1.04.2-1.43.59L10.3 9.45l-7.72 7.72c-.78.78-.78 2.05 0 2.83L4 21.41c.39.39.9.59 1.41.59.51 0 1.02-.2 1.41-.59l7.78-7.78 2.81-2.81c.8-.78.8-2.07 0-2.86zM5.41 20L4 18.59l7.72-7.72 1.47 1.35L5.41 20z\"/>\n",
              "  </svg>\n",
              "      </button>\n",
              "      \n",
              "  <style>\n",
              "    .colab-df-container {\n",
              "      display:flex;\n",
              "      flex-wrap:wrap;\n",
              "      gap: 12px;\n",
              "    }\n",
              "\n",
              "    .colab-df-convert {\n",
              "      background-color: #E8F0FE;\n",
              "      border: none;\n",
              "      border-radius: 50%;\n",
              "      cursor: pointer;\n",
              "      display: none;\n",
              "      fill: #1967D2;\n",
              "      height: 32px;\n",
              "      padding: 0 0 0 0;\n",
              "      width: 32px;\n",
              "    }\n",
              "\n",
              "    .colab-df-convert:hover {\n",
              "      background-color: #E2EBFA;\n",
              "      box-shadow: 0px 1px 2px rgba(60, 64, 67, 0.3), 0px 1px 3px 1px rgba(60, 64, 67, 0.15);\n",
              "      fill: #174EA6;\n",
              "    }\n",
              "\n",
              "    [theme=dark] .colab-df-convert {\n",
              "      background-color: #3B4455;\n",
              "      fill: #D2E3FC;\n",
              "    }\n",
              "\n",
              "    [theme=dark] .colab-df-convert:hover {\n",
              "      background-color: #434B5C;\n",
              "      box-shadow: 0px 1px 3px 1px rgba(0, 0, 0, 0.15);\n",
              "      filter: drop-shadow(0px 1px 2px rgba(0, 0, 0, 0.3));\n",
              "      fill: #FFFFFF;\n",
              "    }\n",
              "  </style>\n",
              "\n",
              "      <script>\n",
              "        const buttonEl =\n",
              "          document.querySelector('#df-979fa0d6-164f-43ea-89c6-55b63078eeaf button.colab-df-convert');\n",
              "        buttonEl.style.display =\n",
              "          google.colab.kernel.accessAllowed ? 'block' : 'none';\n",
              "\n",
              "        async function convertToInteractive(key) {\n",
              "          const element = document.querySelector('#df-979fa0d6-164f-43ea-89c6-55b63078eeaf');\n",
              "          const dataTable =\n",
              "            await google.colab.kernel.invokeFunction('convertToInteractive',\n",
              "                                                     [key], {});\n",
              "          if (!dataTable) return;\n",
              "\n",
              "          const docLinkHtml = 'Like what you see? Visit the ' +\n",
              "            '<a target=\"_blank\" href=https://colab.research.google.com/notebooks/data_table.ipynb>data table notebook</a>'\n",
              "            + ' to learn more about interactive tables.';\n",
              "          element.innerHTML = '';\n",
              "          dataTable['output_type'] = 'display_data';\n",
              "          await google.colab.output.renderOutput(dataTable, element);\n",
              "          const docLink = document.createElement('div');\n",
              "          docLink.innerHTML = docLinkHtml;\n",
              "          element.appendChild(docLink);\n",
              "        }\n",
              "      </script>\n",
              "    </div>\n",
              "  </div>\n",
              "  "
            ]
          },
          "metadata": {},
          "execution_count": 196
        }
      ],
      "source": [
        "data.corr()\n"
      ]
    },
    {
      "cell_type": "code",
      "execution_count": 197,
      "metadata": {
        "colab": {
          "base_uri": "https://localhost:8080/",
          "height": 515
        },
        "id": "9Gbd6bmb4awv",
        "outputId": "895be353-429b-4aef-d936-b729c0afb838"
      },
      "outputs": [
        {
          "output_type": "display_data",
          "data": {
            "text/plain": [
              "<Figure size 1080x504 with 2 Axes>"
            ],
            "image/png": "[encoded data removed]"
          },
          "metadata": {
            "needs_background": "light"
          }
        }
      ],
      "source": [
        "#Visualization of the correlation in the heatmap:\n",
        "\n",
        "plt.figure(figsize=(15, 7))\n",
        "sns.heatmap(data.corr(), annot=True)\n",
        "plt.title('Correlation between all the vaibles', size=16)\n",
        "plt.show()"
      ]
    },
    {
      "cell_type": "markdown",
      "metadata": {
        "id": "aAQAWebY4o0_"
      },
      "source": [
        "### **#Data Transformation:**\n"
      ]
    },
    {
      "cell_type": "code",
      "execution_count": 198,
      "metadata": {
        "id": "sFsT80HS4dKX"
      },
      "outputs": [],
      "source": [
        "#Adding pulse pressure as a column:\n",
        "\n",
        "data['pulsePressure'] = data['sysBP'] - data['diaBP']\n",
        "\n",
        "#Dropping the systolic and diastolic BP columns:\n",
        "\n",
        "data.drop(['sysBP','diaBP'], axis = 1, inplace = True)\n",
        "\n",
        "#Dropping the 'is_smoking' column:\n",
        "\n",
        "data.drop('is_smoking', axis = 1, inplace = True)"
      ]
    },
    {
      "cell_type": "code",
      "execution_count": 199,
      "metadata": {
        "id": "uVBTT6qx49p3"
      },
      "outputs": [],
      "source": [
        "#Creating dummy variables for 'sex':\n",
        "\n",
        "data = pd.get_dummies(data , columns = ['sex'])"
      ]
    },
    {
      "cell_type": "code",
      "execution_count": 200,
      "metadata": {
        "colab": {
          "base_uri": "https://localhost:8080/"
        },
        "id": "dmnBttvV5BVa",
        "outputId": "c9702a0d-6992-4b92-e915-72a1c8f78b6c"
      },
      "outputs": [
        {
          "output_type": "execute_result",
          "data": {
            "text/plain": [
              "0    2483\n",
              "1     444\n",
              "Name: TenYearCHD, dtype: int64"
            ]
          },
          "metadata": {},
          "execution_count": 200
        }
      ],
      "source": [
        "data['TenYearCHD'].value_counts()\n"
      ]
    },
    {
      "cell_type": "markdown",
      "metadata": {
        "id": "o1yiYo967oeV"
      },
      "source": [
        "**There exits a clear imbalance in the classes. Hence, we will use SMOTE to oversample the classes which are in less number.**"
      ]
    },
    {
      "cell_type": "code",
      "execution_count": 201,
      "metadata": {
        "id": "yRPCeWez5Ye5"
      },
      "outputs": [],
      "source": [
        "#Importing SMOTE:\n",
        "\n",
        "from imblearn.over_sampling import SMOTE"
      ]
    },
    {
      "cell_type": "code",
      "execution_count": 202,
      "metadata": {
        "id": "YZ-4RBI_71pd"
      },
      "outputs": [],
      "source": [
        "#Creating an instance for SMOTE:\n",
        "smote = SMOTE()"
      ]
    },
    {
      "cell_type": "markdown",
      "metadata": {
        "id": "mL_kBlMU_1zd"
      },
      "source": [
        "### **Dependent and Independent Variables:**\n"
      ]
    },
    {
      "cell_type": "code",
      "execution_count": 203,
      "metadata": {
        "id": "gZkY1efv_xgU"
      },
      "outputs": [],
      "source": [
        "#Dividing data into independent (X) and dependent (y) variables:\n",
        "\n",
        "independent_variables = ['age', 'education', 'cigsPerDay', 'BPMeds', 'prevalentStroke',\n",
        "       'prevalentHyp', 'diabetes', 'totChol', 'BMI', 'heartRate', 'glucose', 'pulsePressure', 'sex_F', 'sex_M']\n",
        "dependent_variable = 'TenYearCHD'\n",
        "X = data.loc[:, independent_variables]\n",
        "y = data[dependent_variable]"
      ]
    },
    {
      "cell_type": "code",
      "execution_count": 204,
      "metadata": {
        "colab": {
          "base_uri": "https://localhost:8080/"
        },
        "id": "VhrYmXdV_77K",
        "outputId": "e9e7e06d-5ff7-4672-dc49-72c68e057fc3"
      },
      "outputs": [
        {
          "output_type": "stream",
          "name": "stdout",
          "text": [
            "X has 2927 rows and 14 columns\n",
            "y has 2927 rows\n"
          ]
        }
      ],
      "source": [
        "#The rows and columns of X and y:\n",
        "\n",
        "print(f'X has {X.shape[0]} rows and {X.shape[1]} columns')\n",
        "print(f'y has {y.shape[0]} rows')"
      ]
    },
    {
      "cell_type": "code",
      "execution_count": 205,
      "metadata": {
        "id": "TfLY3evg_9t8"
      },
      "outputs": [],
      "source": [
        "#Using SMOTE to oversample:\n",
        "X,y = smote.fit_resample(X,y)"
      ]
    },
    {
      "cell_type": "code",
      "execution_count": 206,
      "metadata": {
        "colab": {
          "base_uri": "https://localhost:8080/"
        },
        "id": "-KLdO1i2ACav",
        "outputId": "fcec837d-e279-40ee-b942-0d82110ebb8f"
      },
      "outputs": [
        {
          "output_type": "stream",
          "name": "stdout",
          "text": [
            "2483\n",
            "2483\n"
          ]
        }
      ],
      "source": [
        "#ounts of each classes after oversampling:\n",
        "\n",
        "print(list(y).count(1))\n",
        "print(list(y).count(0))"
      ]
    },
    {
      "cell_type": "code",
      "execution_count": 207,
      "metadata": {
        "colab": {
          "base_uri": "https://localhost:8080/"
        },
        "id": "r3poLhFvAHeg",
        "outputId": "d840d4ef-fbc9-4b7e-81ab-710ea7b8686e"
      },
      "outputs": [
        {
          "output_type": "stream",
          "name": "stdout",
          "text": [
            "Number of rows in X is 4966\n",
            "Number of rows in y is 4966\n"
          ]
        }
      ],
      "source": [
        "#Rows in the dataset after oversampling:\n",
        "\n",
        "print(f'Number of rows in X is {len(X)}')\n",
        "print(f'Number of rows in y is {len(y)}')"
      ]
    },
    {
      "cell_type": "markdown",
      "metadata": {
        "id": "SMxlCgpIAMWc"
      },
      "source": [
        "### The numbers in the data have different ranges, hence, we will scale the data using the ***Min Max Scaler***.\n"
      ]
    },
    {
      "cell_type": "code",
      "execution_count": 208,
      "metadata": {
        "id": "3xoxj9tlAKvb"
      },
      "outputs": [],
      "source": [
        "#Importing Min Max Scaler:\n",
        "\n",
        "from sklearn.preprocessing import MinMaxScaler"
      ]
    },
    {
      "cell_type": "code",
      "execution_count": 209,
      "metadata": {
        "id": "cjsCSHkVAWW0"
      },
      "outputs": [],
      "source": [
        "#Creating an instance for Min Max Scaler:\n",
        "\n",
        "scaler = MinMaxScaler()\n"
      ]
    },
    {
      "cell_type": "code",
      "execution_count": 210,
      "metadata": {
        "id": "H-4E1aZOAblw"
      },
      "outputs": [],
      "source": [
        "#Scaling the independent variables:\n",
        "\n",
        "X = scaler.fit_transform(X)"
      ]
    },
    {
      "cell_type": "markdown",
      "metadata": {
        "id": "giMqSrSyAhT6"
      },
      "source": [
        "## **Model Implementation:**\n",
        "\n",
        "1. Decision Tree Classifier\n",
        "\n",
        "2. Logistic Regression\n",
        "\n",
        "3. KNeighbors Classifier\n",
        "\n",
        "4. Naive Bayes Classifier\n",
        "\n",
        "5. SVM Classifier\n",
        "\n",
        "6. XGB Classifier\n",
        "\n",
        "7. Random Forest Classifier (Tuning)."
      ]
    },
    {
      "cell_type": "markdown",
      "metadata": {
        "id": "ttrPsyuFAxyM"
      },
      "source": [
        "### **#Libraries required for Model:**\n"
      ]
    },
    {
      "cell_type": "code",
      "execution_count": 211,
      "metadata": {
        "id": "1rgWcTKsAeto"
      },
      "outputs": [],
      "source": [
        "# Importing libraries for modelling and evaluation\n",
        "from sklearn.tree import DecisionTreeClassifier\n",
        "from sklearn.linear_model import LogisticRegression\n",
        "from sklearn.neighbors import KNeighborsClassifier\n",
        "from sklearn.naive_bayes import GaussianNB\n",
        "from sklearn.svm import SVC\n",
        "from xgboost import XGBClassifier\n",
        "from sklearn.ensemble import RandomForestClassifier\n",
        "from sklearn.metrics import accuracy_score, precision_score, recall_score, f1_score, classification_report, confusion_matrix, roc_auc_score, roc_curve"
      ]
    },
    {
      "cell_type": "markdown",
      "metadata": {
        "id": "TnQBJ0BUBoMF"
      },
      "source": [
        "### **Train and Test data sets:**"
      ]
    },
    {
      "cell_type": "code",
      "execution_count": 212,
      "metadata": {
        "id": "WMw1gYMPBmRT"
      },
      "outputs": [],
      "source": [
        "#Importing packages to split data into train and test:\n",
        "\n",
        "from sklearn.model_selection import train_test_split"
      ]
    },
    {
      "cell_type": "code",
      "execution_count": 213,
      "metadata": {
        "id": "GoG9e6zABryC"
      },
      "outputs": [],
      "source": [
        "#Train Test split:\n",
        "\n",
        "X_train, X_test, y_train, y_test = train_test_split(X, y, test_size = 0.2, random_state = 10)"
      ]
    },
    {
      "cell_type": "code",
      "execution_count": 214,
      "metadata": {
        "id": "Sz6BRBntBvE-"
      },
      "outputs": [],
      "source": [
        "#Creating a dictionary for models:\n",
        "\n",
        "models = {'Decision Tree Classifier' : DecisionTreeClassifier(),\n",
        "          'Logistic Regression' : LogisticRegression(),\n",
        "          'KNN' : KNeighborsClassifier(),\n",
        "          'Naive Bayes' : GaussianNB(),\n",
        "          'SVC' : SVC(probability=True),\n",
        "          'XGB Classifier' : XGBClassifier(),\n",
        "          'Random Forest' : RandomForestClassifier()}"
      ]
    },
    {
      "cell_type": "code",
      "execution_count": 215,
      "metadata": {
        "id": "oyjeewMmBzyC"
      },
      "outputs": [],
      "source": [
        "# Creating a function for model building\n",
        "def model_build(X_train, y_train, X_test, y_test, model_dict):\n",
        "  ''' Returns a dataframe with model name and accuracy scores, train confusion matrix, test confusion matrix and the values \n",
        "  for the roc curve '''\n",
        "  \n",
        "  # Creating a dataframe\n",
        "  model_df = pd.DataFrame(columns=['Model', 'Train Accuracy', 'Test Accuracy','Train Precision', 'Test Precision',\n",
        "                                     'Train Recall', 'Test Recall', 'Train ROC AUC', 'Test ROC AUC'])\n",
        "  \n",
        "  # Creating necessary dictionaries\n",
        "  train_confusion_matrix = {}  \n",
        "  test_confusion_matrix = {}  \n",
        "  curve = {}\n",
        "  \n",
        "  \n",
        "  # Model building\n",
        "  for n, m in model_dict.items():\n",
        "    model = m\n",
        "    model.fit(X_train, y_train)\n",
        "    train_preds = model.predict(X_train)\n",
        "    test_preds = model.predict(X_test)\n",
        "\n",
        "    test_probs = model.predict_proba(X_test)\n",
        "    test_probs = test_probs[:,1]\n",
        "\n",
        "    # Evaluation\n",
        "    train_accuracy = accuracy_score(y_train, train_preds)\n",
        "    test_accuracy = accuracy_score(y_test, test_preds)\n",
        "    train_precision = precision_score(y_train, train_preds)\n",
        "    test_precision = precision_score(y_test, test_preds)\n",
        "    train_recall = recall_score(y_train, train_preds)\n",
        "    test_recall = recall_score(y_test, test_preds)\n",
        "    train_roc_auc = roc_auc_score(y_train, train_preds)\n",
        "    test_roc_auc = roc_auc_score(y_test, test_preds)\n",
        "\n",
        "    # Updating the dataframe for each iteration\n",
        "    model_df = model_df.append({'Model': n,\n",
        "                               'Train Accuracy' : train_accuracy,\n",
        "                               'Test Accuracy': test_accuracy,\n",
        "                               'Train Precision' : train_precision,\n",
        "                               'Test Precision' : test_precision,\n",
        "                               'Train Recall' : train_recall,\n",
        "                               'Test Recall' : test_recall,\n",
        "                               'Train ROC AUC' : train_roc_auc,\n",
        "                               'Test ROC AUC' : test_roc_auc}, ignore_index = True)\n",
        "    \n",
        "    # Updating the dictionary for each iteration\n",
        "    train_confusion_matrix[n] = confusion_matrix(y_train, train_preds)\n",
        "    test_confusion_matrix[n] = confusion_matrix(y_test, test_preds)\n",
        "\n",
        "    # ROC Curve values\n",
        "    fpr, tpr, _ = roc_curve(y_test, test_probs)\n",
        "    curve[n] = (fpr,tpr)\n",
        "\n",
        "    \n",
        "\n",
        "  return model_df, train_confusion_matrix, test_confusion_matrix, curve"
      ]
    },
    {
      "cell_type": "code",
      "execution_count": 216,
      "metadata": {
        "id": "EcmP14BnB6fS"
      },
      "outputs": [],
      "source": [
        "# Using the model function to understand the scores of different models\n",
        "model_table, train_cm, test_cm, curve= model_build(X_train, y_train, X_test, y_test, models)"
      ]
    },
    {
      "cell_type": "code",
      "execution_count": 217,
      "metadata": {
        "colab": {
          "base_uri": "https://localhost:8080/",
          "height": 269
        },
        "id": "_O-7j3IPB8XU",
        "outputId": "6af323fb-6ac6-4c5a-d7b8-f626e569b186"
      },
      "outputs": [
        {
          "output_type": "execute_result",
          "data": {
            "text/plain": [
              "                      Model  Train Accuracy  Test Accuracy  Train Precision  \\\n",
              "0  Decision Tree Classifier        1.000000       0.801811         1.000000   \n",
              "1       Logistic Regression        0.755287       0.734406         0.792782   \n",
              "2                       KNN        0.884189       0.807847         0.870605   \n",
              "3               Naive Bayes        0.643001       0.622736         0.750896   \n",
              "4                       SVC        0.777442       0.755533         0.827938   \n",
              "5            XGB Classifier        0.881420       0.841046         0.933794   \n",
              "6             Random Forest        1.000000       0.889336         1.000000   \n",
              "\n",
              "   Test Precision  Train Recall  Test Recall  Train ROC AUC  Test ROC AUC  \n",
              "0        0.808000      1.000000     0.800000       1.000000      0.801840  \n",
              "1        0.797531      0.688574     0.639604       0.755019      0.735957  \n",
              "2        0.809055      0.901416     0.813861       0.884258      0.807749  \n",
              "3        0.757937      0.423660     0.378218       0.642121      0.626737  \n",
              "4        0.817961      0.698180     0.667327       0.777124      0.756976  \n",
              "5        0.910165      0.820020     0.762376       0.881174      0.842333  \n",
              "6        0.926566      1.000000     0.849505       1.000000      0.889988  "
            ],
            "text/html": [
              "\n",
              "  <div id=\"df-467ce639-160e-47ab-9eff-28bbfb9ab000\">\n",
              "    <div class=\"colab-df-container\">\n",
              "      <div>\n",
              "<style scoped>\n",
              "    .dataframe tbody tr th:only-of-type {\n",
              "        vertical-align: middle;\n",
              "    }\n",
              "\n",
              "    .dataframe tbody tr th {\n",
              "        vertical-align: top;\n",
              "    }\n",
              "\n",
              "    .dataframe thead th {\n",
              "        text-align: right;\n",
              "    }\n",
              "</style>\n",
              "<table border=\"1\" class=\"dataframe\">\n",
              "  <thead>\n",
              "    <tr style=\"text-align: right;\">\n",
              "      <th></th>\n",
              "      <th>Model</th>\n",
              "      <th>Train Accuracy</th>\n",
              "      <th>Test Accuracy</th>\n",
              "      <th>Train Precision</th>\n",
              "      <th>Test Precision</th>\n",
              "      <th>Train Recall</th>\n",
              "      <th>Test Recall</th>\n",
              "      <th>Train ROC AUC</th>\n",
              "      <th>Test ROC AUC</th>\n",
              "    </tr>\n",
              "  </thead>\n",
              "  <tbody>\n",
              "    <tr>\n",
              "      <th>0</th>\n",
              "      <td>Decision Tree Classifier</td>\n",
              "      <td>1.000000</td>\n",
              "      <td>0.801811</td>\n",
              "      <td>1.000000</td>\n",
              "      <td>0.808000</td>\n",
              "      <td>1.000000</td>\n",
              "      <td>0.800000</td>\n",
              "      <td>1.000000</td>\n",
              "      <td>0.801840</td>\n",
              "    </tr>\n",
              "    <tr>\n",
              "      <th>1</th>\n",
              "      <td>Logistic Regression</td>\n",
              "      <td>0.755287</td>\n",
              "      <td>0.734406</td>\n",
              "      <td>0.792782</td>\n",
              "      <td>0.797531</td>\n",
              "      <td>0.688574</td>\n",
              "      <td>0.639604</td>\n",
              "      <td>0.755019</td>\n",
              "      <td>0.735957</td>\n",
              "    </tr>\n",
              "    <tr>\n",
              "      <th>2</th>\n",
              "      <td>KNN</td>\n",
              "      <td>0.884189</td>\n",
              "      <td>0.807847</td>\n",
              "      <td>0.870605</td>\n",
              "      <td>0.809055</td>\n",
              "      <td>0.901416</td>\n",
              "      <td>0.813861</td>\n",
              "      <td>0.884258</td>\n",
              "      <td>0.807749</td>\n",
              "    </tr>\n",
              "    <tr>\n",
              "      <th>3</th>\n",
              "      <td>Naive Bayes</td>\n",
              "      <td>0.643001</td>\n",
              "      <td>0.622736</td>\n",
              "      <td>0.750896</td>\n",
              "      <td>0.757937</td>\n",
              "      <td>0.423660</td>\n",
              "      <td>0.378218</td>\n",
              "      <td>0.642121</td>\n",
              "      <td>0.626737</td>\n",
              "    </tr>\n",
              "    <tr>\n",
              "      <th>4</th>\n",
              "      <td>SVC</td>\n",
              "      <td>0.777442</td>\n",
              "      <td>0.755533</td>\n",
              "      <td>0.827938</td>\n",
              "      <td>0.817961</td>\n",
              "      <td>0.698180</td>\n",
              "      <td>0.667327</td>\n",
              "      <td>0.777124</td>\n",
              "      <td>0.756976</td>\n",
              "    </tr>\n",
              "    <tr>\n",
              "      <th>5</th>\n",
              "      <td>XGB Classifier</td>\n",
              "      <td>0.881420</td>\n",
              "      <td>0.841046</td>\n",
              "      <td>0.933794</td>\n",
              "      <td>0.910165</td>\n",
              "      <td>0.820020</td>\n",
              "      <td>0.762376</td>\n",
              "      <td>0.881174</td>\n",
              "      <td>0.842333</td>\n",
              "    </tr>\n",
              "    <tr>\n",
              "      <th>6</th>\n",
              "      <td>Random Forest</td>\n",
              "      <td>1.000000</td>\n",
              "      <td>0.889336</td>\n",
              "      <td>1.000000</td>\n",
              "      <td>0.926566</td>\n",
              "      <td>1.000000</td>\n",
              "      <td>0.849505</td>\n",
              "      <td>1.000000</td>\n",
              "      <td>0.889988</td>\n",
              "    </tr>\n",
              "  </tbody>\n",
              "</table>\n",
              "</div>\n",
              "      <button class=\"colab-df-convert\" onclick=\"convertToInteractive('df-467ce639-160e-47ab-9eff-28bbfb9ab000')\"\n",
              "              title=\"Convert this dataframe to an interactive table.\"\n",
              "              style=\"display:none;\">\n",
              "        \n",
              "  <svg xmlns=\"http://www.w3.org/2000/svg\" height=\"24px\"viewBox=\"0 0 24 24\"\n",
              "       width=\"24px\">\n",
              "    <path d=\"M0 0h24v24H0V0z\" fill=\"none\"/>\n",
              "    <path d=\"M18.56 5.44l.94 2.06.94-2.06 2.06-.94-2.06-.94-.94-2.06-.94 2.06-2.06.94zm-11 1L8.5 8.5l.94-2.06 2.06-.94-2.06-.94L8.5 2.5l-.94 2.06-2.06.94zm10 10l.94 2.06.94-2.06 2.06-.94-2.06-.94-.94-2.06-.94 2.06-2.06.94z\"/><path d=\"M17.41 7.96l-1.37-1.37c-.4-.4-.92-.59-1.43-.59-.52 0-1.04.2-1.43.59L10.3 9.45l-7.72 7.72c-.78.78-.78 2.05 0 2.83L4 21.41c.39.39.9.59 1.41.59.51 0 1.02-.2 1.41-.59l7.78-7.78 2.81-2.81c.8-.78.8-2.07 0-2.86zM5.41 20L4 18.59l7.72-7.72 1.47 1.35L5.41 20z\"/>\n",
              "  </svg>\n",
              "      </button>\n",
              "      \n",
              "  <style>\n",
              "    .colab-df-container {\n",
              "      display:flex;\n",
              "      flex-wrap:wrap;\n",
              "      gap: 12px;\n",
              "    }\n",
              "\n",
              "    .colab-df-convert {\n",
              "      background-color: #E8F0FE;\n",
              "      border: none;\n",
              "      border-radius: 50%;\n",
              "      cursor: pointer;\n",
              "      display: none;\n",
              "      fill: #1967D2;\n",
              "      height: 32px;\n",
              "      padding: 0 0 0 0;\n",
              "      width: 32px;\n",
              "    }\n",
              "\n",
              "    .colab-df-convert:hover {\n",
              "      background-color: #E2EBFA;\n",
              "      box-shadow: 0px 1px 2px rgba(60, 64, 67, 0.3), 0px 1px 3px 1px rgba(60, 64, 67, 0.15);\n",
              "      fill: #174EA6;\n",
              "    }\n",
              "\n",
              "    [theme=dark] .colab-df-convert {\n",
              "      background-color: #3B4455;\n",
              "      fill: #D2E3FC;\n",
              "    }\n",
              "\n",
              "    [theme=dark] .colab-df-convert:hover {\n",
              "      background-color: #434B5C;\n",
              "      box-shadow: 0px 1px 3px 1px rgba(0, 0, 0, 0.15);\n",
              "      filter: drop-shadow(0px 1px 2px rgba(0, 0, 0, 0.3));\n",
              "      fill: #FFFFFF;\n",
              "    }\n",
              "  </style>\n",
              "\n",
              "      <script>\n",
              "        const buttonEl =\n",
              "          document.querySelector('#df-467ce639-160e-47ab-9eff-28bbfb9ab000 button.colab-df-convert');\n",
              "        buttonEl.style.display =\n",
              "          google.colab.kernel.accessAllowed ? 'block' : 'none';\n",
              "\n",
              "        async function convertToInteractive(key) {\n",
              "          const element = document.querySelector('#df-467ce639-160e-47ab-9eff-28bbfb9ab000');\n",
              "          const dataTable =\n",
              "            await google.colab.kernel.invokeFunction('convertToInteractive',\n",
              "                                                     [key], {});\n",
              "          if (!dataTable) return;\n",
              "\n",
              "          const docLinkHtml = 'Like what you see? Visit the ' +\n",
              "            '<a target=\"_blank\" href=https://colab.research.google.com/notebooks/data_table.ipynb>data table notebook</a>'\n",
              "            + ' to learn more about interactive tables.';\n",
              "          element.innerHTML = '';\n",
              "          dataTable['output_type'] = 'display_data';\n",
              "          await google.colab.output.renderOutput(dataTable, element);\n",
              "          const docLink = document.createElement('div');\n",
              "          docLink.innerHTML = docLinkHtml;\n",
              "          element.appendChild(docLink);\n",
              "        }\n",
              "      </script>\n",
              "    </div>\n",
              "  </div>\n",
              "  "
            ]
          },
          "metadata": {},
          "execution_count": 217
        }
      ],
      "source": [
        "# Models and their scores\n",
        "model_table"
      ]
    },
    {
      "cell_type": "code",
      "execution_count": 218,
      "metadata": {
        "colab": {
          "base_uri": "https://localhost:8080/"
        },
        "id": "8C5uLPViB9sn",
        "outputId": "7baec5e0-b738-4a1f-e19d-47cce22a7d3e"
      },
      "outputs": [
        {
          "output_type": "stream",
          "name": "stdout",
          "text": [
            "Model : Decision Tree Classifier\n",
            "[[1994    0]\n",
            " [   0 1978]]\n",
            "********************\n",
            "Model : Logistic Regression\n",
            "[[1638  356]\n",
            " [ 616 1362]]\n",
            "********************\n",
            "Model : KNN\n",
            "[[1729  265]\n",
            " [ 195 1783]]\n",
            "********************\n",
            "Model : Naive Bayes\n",
            "[[1716  278]\n",
            " [1140  838]]\n",
            "********************\n",
            "Model : SVC\n",
            "[[1707  287]\n",
            " [ 597 1381]]\n",
            "********************\n",
            "Model : XGB Classifier\n",
            "[[1879  115]\n",
            " [ 356 1622]]\n",
            "********************\n",
            "Model : Random Forest\n",
            "[[1994    0]\n",
            " [   0 1978]]\n",
            "********************\n"
          ]
        }
      ],
      "source": [
        "# Train confusion matrix:\n",
        "\n",
        "for name, matrix in train_cm.items():\n",
        "  print(f'Model : {name}')\n",
        "  print(matrix)\n",
        "  print('**'*10)"
      ]
    },
    {
      "cell_type": "code",
      "execution_count": 219,
      "metadata": {
        "colab": {
          "base_uri": "https://localhost:8080/"
        },
        "id": "7Dj4E_diCCQj",
        "outputId": "8382f5db-fee9-42d5-f655-a27ff3f49897"
      },
      "outputs": [
        {
          "output_type": "stream",
          "name": "stdout",
          "text": [
            "Model : Decision Tree Classifier\n",
            "[[393  96]\n",
            " [101 404]]\n",
            "********************\n",
            "Model : Logistic Regression\n",
            "[[407  82]\n",
            " [182 323]]\n",
            "********************\n",
            "Model : KNN\n",
            "[[392  97]\n",
            " [ 94 411]]\n",
            "********************\n",
            "Model : Naive Bayes\n",
            "[[428  61]\n",
            " [314 191]]\n",
            "********************\n",
            "Model : SVC\n",
            "[[414  75]\n",
            " [168 337]]\n",
            "********************\n",
            "Model : XGB Classifier\n",
            "[[451  38]\n",
            " [120 385]]\n",
            "********************\n",
            "Model : Random Forest\n",
            "[[455  34]\n",
            " [ 76 429]]\n",
            "********************\n"
          ]
        }
      ],
      "source": [
        "# Test confusion matrix\n",
        "for name, matrix in test_cm.items():\n",
        "  print(f'Model : {name}')\n",
        "  print(matrix)\n",
        "  print('**'*10)"
      ]
    },
    {
      "cell_type": "code",
      "execution_count": 220,
      "metadata": {
        "colab": {
          "base_uri": "https://localhost:8080/",
          "height": 530
        },
        "id": "VM40ua2yCNCC",
        "outputId": "b9e20303-5079-4af6-edcd-1124f406b853"
      },
      "outputs": [
        {
          "output_type": "execute_result",
          "data": {
            "text/plain": [
              "Text(0.5, 1.0, 'ROC CURVE')"
            ]
          },
          "metadata": {},
          "execution_count": 220
        },
        {
          "output_type": "display_data",
          "data": {
            "text/plain": [
              "<Figure size 1440x576 with 1 Axes>"
            ],
            "image/png": "[encoded data removed]"
          },
          "metadata": {
            "needs_background": "light"
          }
        }
      ],
      "source": [
        "# Plotting ROC Curve for all the models:\n",
        "\n",
        "plt.figure(figsize=(20,8))\n",
        "for name, value in curve.items():\n",
        "  sns.lineplot(x = value[0], y = value[1], label = name)\n",
        "plt.xlabel('False Positivity Rate')\n",
        "plt.ylabel('True Positivity Rate')\n",
        "plt.title('ROC CURVE')"
      ]
    },
    {
      "cell_type": "markdown",
      "metadata": {
        "id": "KfH8MbTACkwm"
      },
      "source": [
        "## **#Hyperparameter Tuning:**\n"
      ]
    },
    {
      "cell_type": "code",
      "execution_count": 221,
      "metadata": {
        "id": "eM-9mUQKCnCK"
      },
      "outputs": [],
      "source": [
        "# Importing libraries for hyperparameter tuning:\n",
        "\n",
        "from sklearn.model_selection import GridSearchCV"
      ]
    },
    {
      "cell_type": "code",
      "execution_count": 222,
      "metadata": {
        "id": "OxMV3KpzDii3"
      },
      "outputs": [],
      "source": [
        "# Creating a function for hyperparameter tuning:\n",
        "\n",
        "def grid_fitting(name, hyperparams, estim):\n",
        "  '''Returns a dataframe with scores of the model post hyperparameter tuning along with best model and confusion matrix for train and test '''\n",
        "  \n",
        "  grid_df = pd.DataFrame(columns = ['Model', 'Train Accuracy', 'Test Accuracy','Train Precision', 'Test Precision',\n",
        "                                     'Train Recall', 'Test Recall', 'Train ROC AUC', 'Test ROC AUC'])\n",
        "\n",
        "  grid = GridSearchCV(estimator= estim, param_grid = hyperparams, cv = 5 , n_jobs = -1,  verbose = 1)\n",
        "\n",
        "  grid.fit(X_train,y_train)\n",
        "\n",
        "  best_model = grid.best_estimator_\n",
        "\n",
        "  train_grid = best_model.predict(X_train)\n",
        "  test_grid = best_model.predict(X_test)\n",
        "\n",
        "  grid_train_accuracy = accuracy_score(y_train, train_grid)\n",
        "  grid_test_accuracy = accuracy_score(y_test, test_grid)\n",
        "  grid_train_precision = precision_score(y_train, train_grid)\n",
        "  grid_test_precision = precision_score(y_test, test_grid)\n",
        "  grid_train_recall = recall_score(y_train, train_grid)\n",
        "  grid_test_recall = recall_score(y_test, test_grid)\n",
        "  grid_train_roc_auc = roc_auc_score(y_train, train_grid)\n",
        "  grid_test_roc_auc = roc_auc_score(y_test, test_grid)\n",
        "\n",
        "  grid_df = grid_df.append({'Model': name,\n",
        "                           'Train Accuracy' : grid_train_accuracy,\n",
        "                           'Test Accuracy': grid_test_accuracy,\n",
        "                           'Train Precision' : grid_train_precision,\n",
        "                           'Test Precision' : grid_test_precision,\n",
        "                           'Train Recall' : grid_train_recall,\n",
        "                           'Test Recall' : grid_test_recall,\n",
        "                           'Train ROC AUC' : grid_train_roc_auc,\n",
        "                           'Test ROC AUC' : grid_test_roc_auc},\n",
        "                           ignore_index = True)\n",
        "  \n",
        "  grid_train_cm = confusion_matrix(y_train, train_grid)\n",
        "  grid_test_cm = confusion_matrix(y_test, test_grid)\n",
        "\n",
        "\n",
        "  return best_model, grid_df, grid_train_cm, grid_test_cm"
      ]
    },
    {
      "cell_type": "code",
      "execution_count": 223,
      "metadata": {
        "id": "yt4x1cwqqh8G"
      },
      "outputs": [],
      "source": [
        "n_estimators= [160,210,10]\n",
        "max_depth = [25,35,1]\n",
        "min_samples_split = [2,5,1]\n",
        "min_samples_leaf = [1,5,1]\n",
        "max_features= [4,10,1]"
      ]
    },
    {
      "cell_type": "code",
      "execution_count": 224,
      "metadata": {
        "colab": {
          "base_uri": "https://localhost:8080/"
        },
        "id": "CwKnddXcqke1",
        "outputId": "3c4d5c80-9119-4ef4-f24e-35eda5a04075"
      },
      "outputs": [
        {
          "output_type": "stream",
          "name": "stdout",
          "text": [
            "{'n_estimators': [160, 210, 10], 'max_depth': [25, 35, 1], 'min_samples_split': [2, 5, 1], 'min_samples_leaf': [1, 5, 1], 'max_features': [4, 10, 1]}\n"
          ]
        }
      ],
      "source": [
        "random_grid = {'n_estimators' : n_estimators,\n",
        "               'max_depth' : max_depth,\n",
        "               'min_samples_split' : min_samples_split,\n",
        "               'min_samples_leaf' : min_samples_leaf,\n",
        "               'max_features' : max_features}\n",
        "\n",
        "print(random_grid)"
      ]
    },
    {
      "cell_type": "code",
      "execution_count": 225,
      "metadata": {
        "colab": {
          "base_uri": "https://localhost:8080/"
        },
        "id": "_VJ7sd6Fqlm4",
        "outputId": "e7ba1f5d-6d96-4e67-ab39-86b705b932be"
      },
      "outputs": [
        {
          "output_type": "stream",
          "name": "stdout",
          "text": [
            "Fitting 5 folds for each of 243 candidates, totalling 1215 fits\n"
          ]
        }
      ],
      "source": [
        "# Apply the function to tune the parameters:\n",
        "\n",
        "rf_best_model, rf_df, rf_grid_train_cm, rf_grid_test_cm = grid_fitting('Random Forest', random_grid, RandomForestClassifier())"
      ]
    },
    {
      "cell_type": "code",
      "execution_count": 226,
      "metadata": {
        "colab": {
          "base_uri": "https://localhost:8080/"
        },
        "id": "gXnbOemwqn1W",
        "outputId": "1f4aeae6-db6a-4454-e919-ea222d44fe53"
      },
      "outputs": [
        {
          "output_type": "execute_result",
          "data": {
            "text/plain": [
              "RandomForestClassifier(max_depth=25, max_features=1, n_estimators=210)"
            ]
          },
          "metadata": {},
          "execution_count": 226
        }
      ],
      "source": [
        "# The best estimators of the model\n",
        "rf_best_model"
      ]
    },
    {
      "cell_type": "code",
      "execution_count": 227,
      "metadata": {
        "id": "VkNHVYoUqrZ1",
        "colab": {
          "base_uri": "https://localhost:8080/",
          "height": 81
        },
        "outputId": "bffe326b-9858-40d3-b61f-122164416850"
      },
      "outputs": [
        {
          "output_type": "execute_result",
          "data": {
            "text/plain": [
              "           Model  Train Accuracy  Test Accuracy  Train Precision  \\\n",
              "0  Random Forest             1.0       0.891348              1.0   \n",
              "\n",
              "   Test Precision  Train Recall  Test Recall  Train ROC AUC  Test ROC AUC  \n",
              "0        0.925054           1.0     0.855446            1.0      0.891935  "
            ],
            "text/html": [
              "\n",
              "  <div id=\"df-34718d9f-61dd-4435-8938-e91514d51638\">\n",
              "    <div class=\"colab-df-container\">\n",
              "      <div>\n",
              "<style scoped>\n",
              "    .dataframe tbody tr th:only-of-type {\n",
              "        vertical-align: middle;\n",
              "    }\n",
              "\n",
              "    .dataframe tbody tr th {\n",
              "        vertical-align: top;\n",
              "    }\n",
              "\n",
              "    .dataframe thead th {\n",
              "        text-align: right;\n",
              "    }\n",
              "</style>\n",
              "<table border=\"1\" class=\"dataframe\">\n",
              "  <thead>\n",
              "    <tr style=\"text-align: right;\">\n",
              "      <th></th>\n",
              "      <th>Model</th>\n",
              "      <th>Train Accuracy</th>\n",
              "      <th>Test Accuracy</th>\n",
              "      <th>Train Precision</th>\n",
              "      <th>Test Precision</th>\n",
              "      <th>Train Recall</th>\n",
              "      <th>Test Recall</th>\n",
              "      <th>Train ROC AUC</th>\n",
              "      <th>Test ROC AUC</th>\n",
              "    </tr>\n",
              "  </thead>\n",
              "  <tbody>\n",
              "    <tr>\n",
              "      <th>0</th>\n",
              "      <td>Random Forest</td>\n",
              "      <td>1.0</td>\n",
              "      <td>0.891348</td>\n",
              "      <td>1.0</td>\n",
              "      <td>0.925054</td>\n",
              "      <td>1.0</td>\n",
              "      <td>0.855446</td>\n",
              "      <td>1.0</td>\n",
              "      <td>0.891935</td>\n",
              "    </tr>\n",
              "  </tbody>\n",
              "</table>\n",
              "</div>\n",
              "      <button class=\"colab-df-convert\" onclick=\"convertToInteractive('df-34718d9f-61dd-4435-8938-e91514d51638')\"\n",
              "              title=\"Convert this dataframe to an interactive table.\"\n",
              "              style=\"display:none;\">\n",
              "        \n",
              "  <svg xmlns=\"http://www.w3.org/2000/svg\" height=\"24px\"viewBox=\"0 0 24 24\"\n",
              "       width=\"24px\">\n",
              "    <path d=\"M0 0h24v24H0V0z\" fill=\"none\"/>\n",
              "    <path d=\"M18.56 5.44l.94 2.06.94-2.06 2.06-.94-2.06-.94-.94-2.06-.94 2.06-2.06.94zm-11 1L8.5 8.5l.94-2.06 2.06-.94-2.06-.94L8.5 2.5l-.94 2.06-2.06.94zm10 10l.94 2.06.94-2.06 2.06-.94-2.06-.94-.94-2.06-.94 2.06-2.06.94z\"/><path d=\"M17.41 7.96l-1.37-1.37c-.4-.4-.92-.59-1.43-.59-.52 0-1.04.2-1.43.59L10.3 9.45l-7.72 7.72c-.78.78-.78 2.05 0 2.83L4 21.41c.39.39.9.59 1.41.59.51 0 1.02-.2 1.41-.59l7.78-7.78 2.81-2.81c.8-.78.8-2.07 0-2.86zM5.41 20L4 18.59l7.72-7.72 1.47 1.35L5.41 20z\"/>\n",
              "  </svg>\n",
              "      </button>\n",
              "      \n",
              "  <style>\n",
              "    .colab-df-container {\n",
              "      display:flex;\n",
              "      flex-wrap:wrap;\n",
              "      gap: 12px;\n",
              "    }\n",
              "\n",
              "    .colab-df-convert {\n",
              "      background-color: #E8F0FE;\n",
              "      border: none;\n",
              "      border-radius: 50%;\n",
              "      cursor: pointer;\n",
              "      display: none;\n",
              "      fill: #1967D2;\n",
              "      height: 32px;\n",
              "      padding: 0 0 0 0;\n",
              "      width: 32px;\n",
              "    }\n",
              "\n",
              "    .colab-df-convert:hover {\n",
              "      background-color: #E2EBFA;\n",
              "      box-shadow: 0px 1px 2px rgba(60, 64, 67, 0.3), 0px 1px 3px 1px rgba(60, 64, 67, 0.15);\n",
              "      fill: #174EA6;\n",
              "    }\n",
              "\n",
              "    [theme=dark] .colab-df-convert {\n",
              "      background-color: #3B4455;\n",
              "      fill: #D2E3FC;\n",
              "    }\n",
              "\n",
              "    [theme=dark] .colab-df-convert:hover {\n",
              "      background-color: #434B5C;\n",
              "      box-shadow: 0px 1px 3px 1px rgba(0, 0, 0, 0.15);\n",
              "      filter: drop-shadow(0px 1px 2px rgba(0, 0, 0, 0.3));\n",
              "      fill: #FFFFFF;\n",
              "    }\n",
              "  </style>\n",
              "\n",
              "      <script>\n",
              "        const buttonEl =\n",
              "          document.querySelector('#df-34718d9f-61dd-4435-8938-e91514d51638 button.colab-df-convert');\n",
              "        buttonEl.style.display =\n",
              "          google.colab.kernel.accessAllowed ? 'block' : 'none';\n",
              "\n",
              "        async function convertToInteractive(key) {\n",
              "          const element = document.querySelector('#df-34718d9f-61dd-4435-8938-e91514d51638');\n",
              "          const dataTable =\n",
              "            await google.colab.kernel.invokeFunction('convertToInteractive',\n",
              "                                                     [key], {});\n",
              "          if (!dataTable) return;\n",
              "\n",
              "          const docLinkHtml = 'Like what you see? Visit the ' +\n",
              "            '<a target=\"_blank\" href=https://colab.research.google.com/notebooks/data_table.ipynb>data table notebook</a>'\n",
              "            + ' to learn more about interactive tables.';\n",
              "          element.innerHTML = '';\n",
              "          dataTable['output_type'] = 'display_data';\n",
              "          await google.colab.output.renderOutput(dataTable, element);\n",
              "          const docLink = document.createElement('div');\n",
              "          docLink.innerHTML = docLinkHtml;\n",
              "          element.appendChild(docLink);\n",
              "        }\n",
              "      </script>\n",
              "    </div>\n",
              "  </div>\n",
              "  "
            ]
          },
          "metadata": {},
          "execution_count": 227
        }
      ],
      "source": [
        "# Dataframe showing scores of the model after hyperparameter tuning\n",
        "rf_df"
      ]
    },
    {
      "cell_type": "code",
      "execution_count": 228,
      "metadata": {
        "colab": {
          "base_uri": "https://localhost:8080/"
        },
        "id": "BmHC3WmUq9bq",
        "outputId": "d3c12116-838b-4b53-d15c-ebb112974ded"
      },
      "outputs": [
        {
          "output_type": "execute_result",
          "data": {
            "text/plain": [
              "array([[1994,    0],\n",
              "       [   0, 1978]])"
            ]
          },
          "metadata": {},
          "execution_count": 228
        }
      ],
      "source": [
        "# Confusion matrix of training data after hyperparameter tuning\n",
        "rf_grid_train_cm"
      ]
    },
    {
      "cell_type": "code",
      "execution_count": 229,
      "metadata": {
        "colab": {
          "base_uri": "https://localhost:8080/"
        },
        "id": "dSGmU_cLq9vb",
        "outputId": "5b6992c3-72e4-4cb9-895c-85b1f9c7ab37"
      },
      "outputs": [
        {
          "output_type": "execute_result",
          "data": {
            "text/plain": [
              "array([[454,  35],\n",
              "       [ 73, 432]])"
            ]
          },
          "metadata": {},
          "execution_count": 229
        }
      ],
      "source": [
        "# Confusion matrix of test data after hyperparameter tuning\n",
        "rf_grid_test_cm"
      ]
    },
    {
      "cell_type": "code",
      "execution_count": 230,
      "metadata": {
        "colab": {
          "base_uri": "https://localhost:8080/"
        },
        "id": "WGJuPi0lq_Ft",
        "outputId": "a289c7a8-f836-4a35-8451-c52378fcbcc6"
      },
      "outputs": [
        {
          "output_type": "stream",
          "name": "stdout",
          "text": [
            "Looking in indexes: https://pypi.org/simple, https://us-python.pkg.dev/colab-wheels/public/simple/\n",
            "Requirement already satisfied: shap in /usr/local/lib/python3.7/dist-packages (0.41.0)\n",
            "Requirement already satisfied: numba in /usr/local/lib/python3.7/dist-packages (from shap) (0.56.3)\n",
            "Requirement already satisfied: packaging>20.9 in /usr/local/lib/python3.7/dist-packages (from shap) (21.3)\n",
            "Requirement already satisfied: pandas in /usr/local/lib/python3.7/dist-packages (from shap) (1.3.5)\n",
            "Requirement already satisfied: cloudpickle in /usr/local/lib/python3.7/dist-packages (from shap) (1.5.0)\n",
            "Requirement already satisfied: slicer==0.0.7 in /usr/local/lib/python3.7/dist-packages (from shap) (0.0.7)\n",
            "Requirement already satisfied: scipy in /usr/local/lib/python3.7/dist-packages (from shap) (1.7.3)\n",
            "Requirement already satisfied: numpy in /usr/local/lib/python3.7/dist-packages (from shap) (1.21.6)\n",
            "Requirement already satisfied: scikit-learn in /usr/local/lib/python3.7/dist-packages (from shap) (1.0.2)\n",
            "Requirement already satisfied: tqdm>4.25.0 in /usr/local/lib/python3.7/dist-packages (from shap) (4.64.1)\n",
            "Requirement already satisfied: pyparsing!=3.0.5,>=2.0.2 in /usr/local/lib/python3.7/dist-packages (from packaging>20.9->shap) (3.0.9)\n",
            "Requirement already satisfied: setuptools in /usr/local/lib/python3.7/dist-packages (from numba->shap) (57.4.0)\n",
            "Requirement already satisfied: llvmlite<0.40,>=0.39.0dev0 in /usr/local/lib/python3.7/dist-packages (from numba->shap) (0.39.1)\n",
            "Requirement already satisfied: importlib-metadata in /usr/local/lib/python3.7/dist-packages (from numba->shap) (4.13.0)\n",
            "Requirement already satisfied: zipp>=0.5 in /usr/local/lib/python3.7/dist-packages (from importlib-metadata->numba->shap) (3.10.0)\n",
            "Requirement already satisfied: typing-extensions>=3.6.4 in /usr/local/lib/python3.7/dist-packages (from importlib-metadata->numba->shap) (4.1.1)\n",
            "Requirement already satisfied: pytz>=2017.3 in /usr/local/lib/python3.7/dist-packages (from pandas->shap) (2022.5)\n",
            "Requirement already satisfied: python-dateutil>=2.7.3 in /usr/local/lib/python3.7/dist-packages (from pandas->shap) (2.8.2)\n",
            "Requirement already satisfied: six>=1.5 in /usr/local/lib/python3.7/dist-packages (from python-dateutil>=2.7.3->pandas->shap) (1.15.0)\n",
            "Requirement already satisfied: joblib>=0.11 in /usr/local/lib/python3.7/dist-packages (from scikit-learn->shap) (1.2.0)\n",
            "Requirement already satisfied: threadpoolctl>=2.0.0 in /usr/local/lib/python3.7/dist-packages (from scikit-learn->shap) (3.1.0)\n"
          ]
        }
      ],
      "source": [
        "!pip install shap"
      ]
    },
    {
      "cell_type": "code",
      "execution_count": 231,
      "metadata": {
        "id": "Urd5rJpsrAdY"
      },
      "outputs": [],
      "source": [
        "# Importing SHAP\n",
        "import shap"
      ]
    },
    {
      "cell_type": "code",
      "execution_count": 232,
      "metadata": {
        "id": "v7u2qNpHrCFL"
      },
      "outputs": [],
      "source": [
        "# Creating instances of shap\n",
        "explainer = shap.TreeExplainer(rf_best_model)\n",
        "shap_values = explainer.shap_values(X_test)"
      ]
    },
    {
      "cell_type": "code",
      "execution_count": 233,
      "metadata": {
        "id": "le_CRk2grMdw"
      },
      "outputs": [],
      "source": [
        "# As X_test is an array without column names we will build a dataframe\n",
        "shap_df = pd.DataFrame(X_test, columns = ['age', 'education', 'cigsPerDay', 'BPMeds', 'prevalentStroke',\n",
        "       'prevalentHyp', 'diabetes', 'totChol', 'BMI', 'heartRate', 'glucose',\n",
        "       'pulsePressure', 'sex_F', 'sex_M'])"
      ]
    },
    {
      "cell_type": "code",
      "execution_count": 234,
      "metadata": {
        "colab": {
          "base_uri": "https://localhost:8080/",
          "height": 520
        },
        "id": "lC_zpeXnrNxV",
        "outputId": "b87bb0a0-a247-4b54-bd32-7ff7c3df7cc6"
      },
      "outputs": [
        {
          "output_type": "display_data",
          "data": {
            "text/plain": [
              "<Figure size 576x511.2 with 1 Axes>"
            ],
            "image/png": "[encoded data removed]"
          },
          "metadata": {
            "needs_background": "light"
          }
        }
      ],
      "source": [
        "# SHAP Summary Plot\n",
        "shap.summary_plot(shap_values, shap_df, plot_type = 'bar')"
      ]
    },
    {
      "cell_type": "markdown",
      "metadata": {
        "id": "pI7_oskwrT7O"
      },
      "source": [
        "# **#Conclusion :**\n",
        "\n",
        "\n",
        "Models accuracy of predicting the patient's risk of developing **Coronary Heart Disease (CHD)** in the **next 10 years**.\n",
        "\n",
        "\n",
        "As conclusion to the project, I would like to summarize the process and some details of the project.\n",
        "\n",
        "\n",
        "The data was cleaned, an EDA was performed, transformation of data was done in order to ensure it fits well into machine learning models, modelling along with evaluation of the models was done and finally hyperparameter tuning was done in an attempt to imporve the model.\n",
        "\n",
        "\n",
        "6 models were used in the project, namely, Decision Tree, Logistic Regression, Random Forest, XGB Classifier, KNN and SVM. Random Forest was best performing base model. Hyperparameter tuning was done on the same model.\n",
        "\n",
        "\n",
        "The final results of the model are almost close to the base model and we have acheived almost 90% test accuracy and test precision, where as we have acheived almost 88% test recall.\n",
        "\n",
        "\n",
        "Using SHAP we identified the feature importances and identified that, gender, age and education were 3 main influencers.\n",
        "\n",
        "\n",
        "Other methods or models could be used to further improve the model. With the help of a medical expert we could engineer more features which would in turn help improve the model further."
      ]
    }
  ],
  "metadata": {
    "colab": {
      "collapsed_sections": [],
      "provenance": [],
      "mount_file_id": "1Jg0waX5UEMK3OQAqf-ifFfhq-rF3--35",
      "authorship_tag": "ABX9TyM2sV5XtBe5bueyla+Z8EJF",
      "include_colab_link": true
    },
    "kernelspec": {
      "display_name": "Python 3",
      "name": "python3"
    },
    "language_info": {
      "name": "python"
    }
  },
  "nbformat": 4,
  "nbformat_minor": 0
}